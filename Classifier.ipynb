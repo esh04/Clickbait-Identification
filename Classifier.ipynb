{
  "nbformat": 4,
  "nbformat_minor": 0,
  "metadata": {
    "colab": {
      "name": "Classifier.ipynb",
      "provenance": [],
      "collapsed_sections": []
    },
    "kernelspec": {
      "name": "python3",
      "display_name": "Python 3"
    },
    "language_info": {
      "name": "python"
    }
  },
  "cells": [
    {
      "cell_type": "markdown",
      "metadata": {
        "id": "view-in-github"
      },
      "source": [
        "<a href=\"https://colab.research.google.com/github/esh04/Clickbait-Identification/blob/Esh/Classifier.ipynb\" target=\"_parent\"><img src=\"https://colab.research.google.com/assets/colab-badge.svg\" alt=\"Open In Colab\"/></a>"
      ]
    },
    {
      "cell_type": "markdown",
      "metadata": {
        "id": "JbsnlSmbPl_p"
      },
      "source": [
        "\n",
        "\n",
        "---\n",
        "\n",
        "\n",
        "# **WE PERFORM BINARY CLASSIFICATION BASED ON THE DATA AND PARAMETERS WE HAVE GENERATED AND PREDICT IN THE TEST DATASET**\n",
        "\n",
        "\n",
        "---\n",
        "\n"
      ]
    },
    {
      "cell_type": "markdown",
      "metadata": {
        "id": "xT0rPDVWPycl"
      },
      "source": [
        "## Importing the parameters generated for prediction purposes"
      ]
    },
    {
      "cell_type": "code",
      "metadata": {
        "colab": {
          "base_uri": "https://localhost:8080/",
          "height": 419
        },
        "id": "xiroNRZt5UUg",
        "outputId": "6d88c103-f75f-4068-b1d6-d46cd06017ba"
      },
      "source": [
        "import pandas as pd\n",
        "\n",
        "path = \"/content/final_parameters.csv\"\n",
        "df = pd.read_csv(path)\n",
        "df.drop(['num_tokens','ORG_count','total_NER'], inplace=True, axis=1)\n",
        "df"
      ],
      "execution_count": 5,
      "outputs": [
        {
          "output_type": "execute_result",
          "data": {
            "text/html": [
              "<div>\n",
              "<style scoped>\n",
              "    .dataframe tbody tr th:only-of-type {\n",
              "        vertical-align: middle;\n",
              "    }\n",
              "\n",
              "    .dataframe tbody tr th {\n",
              "        vertical-align: top;\n",
              "    }\n",
              "\n",
              "    .dataframe thead th {\n",
              "        text-align: right;\n",
              "    }\n",
              "</style>\n",
              "<table border=\"1\" class=\"dataframe\">\n",
              "  <thead>\n",
              "    <tr style=\"text-align: right;\">\n",
              "      <th></th>\n",
              "      <th>sentence</th>\n",
              "      <th>label</th>\n",
              "      <th>is_que</th>\n",
              "      <th>is_exclam</th>\n",
              "      <th>is_quote</th>\n",
              "      <th>num_stopwords</th>\n",
              "      <th>has_num</th>\n",
              "      <th>PER_count</th>\n",
              "      <th>LOC_count</th>\n",
              "      <th>num_noun</th>\n",
              "      <th>num_verb</th>\n",
              "      <th>num_adj</th>\n",
              "    </tr>\n",
              "  </thead>\n",
              "  <tbody>\n",
              "    <tr>\n",
              "      <th>0</th>\n",
              "      <td>यह एक जबड़ा छोड़ने वाली डिलीवरी है! 50-टन व्हे...</td>\n",
              "      <td>0</td>\n",
              "      <td>0</td>\n",
              "      <td>1</td>\n",
              "      <td>0</td>\n",
              "      <td>19</td>\n",
              "      <td>1</td>\n",
              "      <td>0</td>\n",
              "      <td>1</td>\n",
              "      <td>8</td>\n",
              "      <td>3</td>\n",
              "      <td>5</td>\n",
              "    </tr>\n",
              "    <tr>\n",
              "      <th>1</th>\n",
              "      <td>जस्टिन बीबर नई तस्वीरों की बाढ़ के साथ अपने इं...</td>\n",
              "      <td>1</td>\n",
              "      <td>0</td>\n",
              "      <td>0</td>\n",
              "      <td>0</td>\n",
              "      <td>5</td>\n",
              "      <td>0</td>\n",
              "      <td>2</td>\n",
              "      <td>0</td>\n",
              "      <td>6</td>\n",
              "      <td>1</td>\n",
              "      <td>2</td>\n",
              "    </tr>\n",
              "    <tr>\n",
              "      <th>2</th>\n",
              "      <td>रॉल्फ हैरिस कुछ ही महीनों में मुक्त हो सकता है...</td>\n",
              "      <td>0</td>\n",
              "      <td>0</td>\n",
              "      <td>0</td>\n",
              "      <td>0</td>\n",
              "      <td>13</td>\n",
              "      <td>0</td>\n",
              "      <td>2</td>\n",
              "      <td>0</td>\n",
              "      <td>5</td>\n",
              "      <td>2</td>\n",
              "      <td>3</td>\n",
              "    </tr>\n",
              "    <tr>\n",
              "      <th>3</th>\n",
              "      <td>बीएमसी चुनाव: बीजेपी, शिवसेना ने मतदाताओं को ग...</td>\n",
              "      <td>0</td>\n",
              "      <td>0</td>\n",
              "      <td>0</td>\n",
              "      <td>0</td>\n",
              "      <td>5</td>\n",
              "      <td>0</td>\n",
              "      <td>0</td>\n",
              "      <td>0</td>\n",
              "      <td>5</td>\n",
              "      <td>2</td>\n",
              "      <td>1</td>\n",
              "    </tr>\n",
              "    <tr>\n",
              "      <th>4</th>\n",
              "      <td>चीनी पुलिस ने 100 किलोग्राम मेथ जब्त किया\\n</td>\n",
              "      <td>0</td>\n",
              "      <td>0</td>\n",
              "      <td>0</td>\n",
              "      <td>0</td>\n",
              "      <td>2</td>\n",
              "      <td>1</td>\n",
              "      <td>0</td>\n",
              "      <td>0</td>\n",
              "      <td>4</td>\n",
              "      <td>1</td>\n",
              "      <td>2</td>\n",
              "    </tr>\n",
              "    <tr>\n",
              "      <th>...</th>\n",
              "      <td>...</td>\n",
              "      <td>...</td>\n",
              "      <td>...</td>\n",
              "      <td>...</td>\n",
              "      <td>...</td>\n",
              "      <td>...</td>\n",
              "      <td>...</td>\n",
              "      <td>...</td>\n",
              "      <td>...</td>\n",
              "      <td>...</td>\n",
              "      <td>...</td>\n",
              "      <td>...</td>\n",
              "    </tr>\n",
              "    <tr>\n",
              "      <th>41795</th>\n",
              "      <td>ईएसपीएन ने &amp;#39;स्पोर्ट्स बबल&amp;#39; के लीडिंग ए...</td>\n",
              "      <td>1</td>\n",
              "      <td>0</td>\n",
              "      <td>0</td>\n",
              "      <td>1</td>\n",
              "      <td>4</td>\n",
              "      <td>1</td>\n",
              "      <td>0</td>\n",
              "      <td>0</td>\n",
              "      <td>5</td>\n",
              "      <td>2</td>\n",
              "      <td>0</td>\n",
              "    </tr>\n",
              "    <tr>\n",
              "      <th>41796</th>\n",
              "      <td>जलते हुए आदमी की ये तस्वीरें आपको डब्ल्यूटीएफ ...</td>\n",
              "      <td>1</td>\n",
              "      <td>0</td>\n",
              "      <td>0</td>\n",
              "      <td>0</td>\n",
              "      <td>7</td>\n",
              "      <td>0</td>\n",
              "      <td>0</td>\n",
              "      <td>0</td>\n",
              "      <td>3</td>\n",
              "      <td>3</td>\n",
              "      <td>0</td>\n",
              "    </tr>\n",
              "    <tr>\n",
              "      <th>41797</th>\n",
              "      <td>मस्तिष्क रक्त के थक्के के साथ अस्पताल में रूपा...</td>\n",
              "      <td>0</td>\n",
              "      <td>0</td>\n",
              "      <td>0</td>\n",
              "      <td>0</td>\n",
              "      <td>4</td>\n",
              "      <td>0</td>\n",
              "      <td>2</td>\n",
              "      <td>0</td>\n",
              "      <td>6</td>\n",
              "      <td>0</td>\n",
              "      <td>1</td>\n",
              "    </tr>\n",
              "    <tr>\n",
              "      <th>41798</th>\n",
              "      <td>सबसे बड़ी आसानी के साथ। । ।\\n</td>\n",
              "      <td>0</td>\n",
              "      <td>0</td>\n",
              "      <td>0</td>\n",
              "      <td>0</td>\n",
              "      <td>2</td>\n",
              "      <td>0</td>\n",
              "      <td>2</td>\n",
              "      <td>0</td>\n",
              "      <td>1</td>\n",
              "      <td>0</td>\n",
              "      <td>1</td>\n",
              "    </tr>\n",
              "    <tr>\n",
              "      <th>41799</th>\n",
              "      <td>द वीक के सबसे फेब और द्राब सेलिब्रिटी लुक\\n</td>\n",
              "      <td>1</td>\n",
              "      <td>0</td>\n",
              "      <td>0</td>\n",
              "      <td>0</td>\n",
              "      <td>4</td>\n",
              "      <td>0</td>\n",
              "      <td>0</td>\n",
              "      <td>0</td>\n",
              "      <td>4</td>\n",
              "      <td>0</td>\n",
              "      <td>2</td>\n",
              "    </tr>\n",
              "  </tbody>\n",
              "</table>\n",
              "<p>41800 rows × 12 columns</p>\n",
              "</div>"
            ],
            "text/plain": [
              "                                                sentence  ...  num_adj\n",
              "0      यह एक जबड़ा छोड़ने वाली डिलीवरी है! 50-टन व्हे...  ...        5\n",
              "1      जस्टिन बीबर नई तस्वीरों की बाढ़ के साथ अपने इं...  ...        2\n",
              "2      रॉल्फ हैरिस कुछ ही महीनों में मुक्त हो सकता है...  ...        3\n",
              "3      बीएमसी चुनाव: बीजेपी, शिवसेना ने मतदाताओं को ग...  ...        1\n",
              "4            चीनी पुलिस ने 100 किलोग्राम मेथ जब्त किया\\n  ...        2\n",
              "...                                                  ...  ...      ...\n",
              "41795  ईएसपीएन ने &#39;स्पोर्ट्स बबल&#39; के लीडिंग ए...  ...        0\n",
              "41796  जलते हुए आदमी की ये तस्वीरें आपको डब्ल्यूटीएफ ...  ...        0\n",
              "41797  मस्तिष्क रक्त के थक्के के साथ अस्पताल में रूपा...  ...        1\n",
              "41798                      सबसे बड़ी आसानी के साथ। । ।\\n  ...        1\n",
              "41799        द वीक के सबसे फेब और द्राब सेलिब्रिटी लुक\\n  ...        2\n",
              "\n",
              "[41800 rows x 12 columns]"
            ]
          },
          "metadata": {
            "tags": []
          },
          "execution_count": 5
        }
      ]
    },
    {
      "cell_type": "code",
      "metadata": {
        "id": "TEX2rV9F7Bqw"
      },
      "source": [
        "X = df.drop(['sentence','label'],axis=1)\n",
        "y = df['label']"
      ],
      "execution_count": 6,
      "outputs": []
    },
    {
      "cell_type": "markdown",
      "metadata": {
        "id": "wJFpgHWnP5P9"
      },
      "source": [
        "## Splitting the training dataset into suitable ratio for training and verification(testing)"
      ]
    },
    {
      "cell_type": "code",
      "metadata": {
        "id": "3momC48o77KQ"
      },
      "source": [
        "from sklearn.model_selection import train_test_split\n",
        "X_train, X_test, y_train, y_test = train_test_split(X, y, test_size = 0.20)\n"
      ],
      "execution_count": 7,
      "outputs": []
    },
    {
      "cell_type": "markdown",
      "metadata": {
        "id": "sBJ-X62fQSlj"
      },
      "source": [
        "## Scaling the data appropriately to benefit the classification process "
      ]
    },
    {
      "cell_type": "code",
      "metadata": {
        "colab": {
          "base_uri": "https://localhost:8080/",
          "height": 297
        },
        "id": "xKgus-F69PUo",
        "outputId": "d46da4af-6a2c-4a20-9933-9056db0d4c9b"
      },
      "source": [
        "cols = X_train.columns\n",
        "from sklearn.preprocessing import StandardScaler\n",
        "\n",
        "scaler = StandardScaler()\n",
        "\n",
        "X_train = scaler.fit_transform(X_train)\n",
        "\n",
        "X_test = scaler.transform(X_test)\n",
        "X_train = pd.DataFrame(X_train, columns=[cols])\n",
        "X_test = pd.DataFrame(X_test, columns=[cols])\n",
        "X_train.describe()\n"
      ],
      "execution_count": 8,
      "outputs": [
        {
          "output_type": "execute_result",
          "data": {
            "text/html": [
              "<div>\n",
              "<style scoped>\n",
              "    .dataframe tbody tr th:only-of-type {\n",
              "        vertical-align: middle;\n",
              "    }\n",
              "\n",
              "    .dataframe tbody tr th {\n",
              "        vertical-align: top;\n",
              "    }\n",
              "\n",
              "    .dataframe thead tr th {\n",
              "        text-align: left;\n",
              "    }\n",
              "</style>\n",
              "<table border=\"1\" class=\"dataframe\">\n",
              "  <thead>\n",
              "    <tr>\n",
              "      <th></th>\n",
              "      <th>is_que</th>\n",
              "      <th>is_exclam</th>\n",
              "      <th>is_quote</th>\n",
              "      <th>num_stopwords</th>\n",
              "      <th>has_num</th>\n",
              "      <th>PER_count</th>\n",
              "      <th>LOC_count</th>\n",
              "      <th>num_noun</th>\n",
              "      <th>num_verb</th>\n",
              "      <th>num_adj</th>\n",
              "    </tr>\n",
              "  </thead>\n",
              "  <tbody>\n",
              "    <tr>\n",
              "      <th>count</th>\n",
              "      <td>3.344000e+04</td>\n",
              "      <td>3.344000e+04</td>\n",
              "      <td>3.344000e+04</td>\n",
              "      <td>3.344000e+04</td>\n",
              "      <td>3.344000e+04</td>\n",
              "      <td>3.344000e+04</td>\n",
              "      <td>3.344000e+04</td>\n",
              "      <td>3.344000e+04</td>\n",
              "      <td>3.344000e+04</td>\n",
              "      <td>3.344000e+04</td>\n",
              "    </tr>\n",
              "    <tr>\n",
              "      <th>mean</th>\n",
              "      <td>-1.249610e-15</td>\n",
              "      <td>5.797778e-16</td>\n",
              "      <td>6.692015e-16</td>\n",
              "      <td>4.091690e-16</td>\n",
              "      <td>-5.189363e-16</td>\n",
              "      <td>-9.353895e-17</td>\n",
              "      <td>2.620824e-15</td>\n",
              "      <td>7.530854e-16</td>\n",
              "      <td>5.106329e-16</td>\n",
              "      <td>-5.591752e-16</td>\n",
              "    </tr>\n",
              "    <tr>\n",
              "      <th>std</th>\n",
              "      <td>1.000015e+00</td>\n",
              "      <td>1.000015e+00</td>\n",
              "      <td>1.000015e+00</td>\n",
              "      <td>1.000015e+00</td>\n",
              "      <td>1.000015e+00</td>\n",
              "      <td>1.000015e+00</td>\n",
              "      <td>1.000015e+00</td>\n",
              "      <td>1.000015e+00</td>\n",
              "      <td>1.000015e+00</td>\n",
              "      <td>1.000015e+00</td>\n",
              "    </tr>\n",
              "    <tr>\n",
              "      <th>min</th>\n",
              "      <td>-2.413242e-01</td>\n",
              "      <td>-1.375967e-01</td>\n",
              "      <td>-3.427793e-01</td>\n",
              "      <td>-1.505625e+00</td>\n",
              "      <td>-6.375424e-01</td>\n",
              "      <td>-7.846584e-01</td>\n",
              "      <td>-7.068241e-01</td>\n",
              "      <td>-1.943117e+00</td>\n",
              "      <td>-1.171768e+00</td>\n",
              "      <td>-1.049171e+00</td>\n",
              "    </tr>\n",
              "    <tr>\n",
              "      <th>25%</th>\n",
              "      <td>-2.413242e-01</td>\n",
              "      <td>-1.375967e-01</td>\n",
              "      <td>-3.427793e-01</td>\n",
              "      <td>-4.996188e-01</td>\n",
              "      <td>-6.375424e-01</td>\n",
              "      <td>-7.846584e-01</td>\n",
              "      <td>-7.068241e-01</td>\n",
              "      <td>-5.842386e-01</td>\n",
              "      <td>-2.726830e-01</td>\n",
              "      <td>-1.049171e+00</td>\n",
              "    </tr>\n",
              "    <tr>\n",
              "      <th>50%</th>\n",
              "      <td>-2.413242e-01</td>\n",
              "      <td>-1.375967e-01</td>\n",
              "      <td>-3.427793e-01</td>\n",
              "      <td>-2.481172e-01</td>\n",
              "      <td>-6.375424e-01</td>\n",
              "      <td>-7.846584e-01</td>\n",
              "      <td>-7.068241e-01</td>\n",
              "      <td>-2.445189e-01</td>\n",
              "      <td>-2.726830e-01</td>\n",
              "      <td>-3.260074e-01</td>\n",
              "    </tr>\n",
              "    <tr>\n",
              "      <th>75%</th>\n",
              "      <td>-2.413242e-01</td>\n",
              "      <td>-1.375967e-01</td>\n",
              "      <td>-3.427793e-01</td>\n",
              "      <td>5.063877e-01</td>\n",
              "      <td>1.568523e+00</td>\n",
              "      <td>3.538402e-01</td>\n",
              "      <td>9.671276e-01</td>\n",
              "      <td>4.349204e-01</td>\n",
              "      <td>6.264019e-01</td>\n",
              "      <td>3.971559e-01</td>\n",
              "    </tr>\n",
              "    <tr>\n",
              "      <th>max</th>\n",
              "      <td>3.251314e+01</td>\n",
              "      <td>2.932602e+01</td>\n",
              "      <td>2.917329e+00</td>\n",
              "      <td>3.747713e+01</td>\n",
              "      <td>1.568523e+00</td>\n",
              "      <td>7.184832e+00</td>\n",
              "      <td>7.662934e+00</td>\n",
              "      <td>3.746437e+01</td>\n",
              "      <td>2.580078e+01</td>\n",
              "      <td>3.004685e+01</td>\n",
              "    </tr>\n",
              "  </tbody>\n",
              "</table>\n",
              "</div>"
            ],
            "text/plain": [
              "             is_que     is_exclam  ...      num_verb       num_adj\n",
              "count  3.344000e+04  3.344000e+04  ...  3.344000e+04  3.344000e+04\n",
              "mean  -1.249610e-15  5.797778e-16  ...  5.106329e-16 -5.591752e-16\n",
              "std    1.000015e+00  1.000015e+00  ...  1.000015e+00  1.000015e+00\n",
              "min   -2.413242e-01 -1.375967e-01  ... -1.171768e+00 -1.049171e+00\n",
              "25%   -2.413242e-01 -1.375967e-01  ... -2.726830e-01 -1.049171e+00\n",
              "50%   -2.413242e-01 -1.375967e-01  ... -2.726830e-01 -3.260074e-01\n",
              "75%   -2.413242e-01 -1.375967e-01  ...  6.264019e-01  3.971559e-01\n",
              "max    3.251314e+01  2.932602e+01  ...  2.580078e+01  3.004685e+01\n",
              "\n",
              "[8 rows x 10 columns]"
            ]
          },
          "metadata": {
            "tags": []
          },
          "execution_count": 8
        }
      ]
    },
    {
      "cell_type": "markdown",
      "metadata": {
        "id": "OloQDBugQdOe"
      },
      "source": [
        "# USING SVM TO PERFORM BINARY CLASSIFICATION\n",
        "\n"
      ]
    },
    {
      "cell_type": "code",
      "metadata": {
        "colab": {
          "base_uri": "https://localhost:8080/",
          "height": 231
        },
        "id": "xGbPyHN892uP",
        "outputId": "fe0ce63e-a9eb-4fc4-9f88-ef311851b818"
      },
      "source": [
        "# instantiate classifier with rbf kernel and C=100\n",
        "svc=SVC(C=100.0) \n",
        "\n",
        "\n",
        "# fit classifier to training set\n",
        "svc.fit(X_train,y_train)\n",
        "\n",
        "\n",
        "# make predictions on test set\n",
        "y_pred=svc.predict(X_test)\n",
        "\n",
        "\n",
        "# compute and print accuracy score\n",
        "print('Model accuracy score with rbf kernel and C=100.0 : {0:0.4f}'. format(accuracy_score(y_test, y_pred)))"
      ],
      "execution_count": 9,
      "outputs": [
        {
          "output_type": "error",
          "ename": "NameError",
          "evalue": "ignored",
          "traceback": [
            "\u001b[0;31m---------------------------------------------------------------------------\u001b[0m",
            "\u001b[0;31mNameError\u001b[0m                                 Traceback (most recent call last)",
            "\u001b[0;32m<ipython-input-9-4ed7d64c0eea>\u001b[0m in \u001b[0;36m<module>\u001b[0;34m()\u001b[0m\n\u001b[1;32m      1\u001b[0m \u001b[0;31m# instantiate classifier with rbf kernel and C=100\u001b[0m\u001b[0;34m\u001b[0m\u001b[0;34m\u001b[0m\u001b[0;34m\u001b[0m\u001b[0m\n\u001b[0;32m----> 2\u001b[0;31m \u001b[0msvc\u001b[0m\u001b[0;34m=\u001b[0m\u001b[0mSVC\u001b[0m\u001b[0;34m(\u001b[0m\u001b[0mC\u001b[0m\u001b[0;34m=\u001b[0m\u001b[0;36m100.0\u001b[0m\u001b[0;34m)\u001b[0m\u001b[0;34m\u001b[0m\u001b[0;34m\u001b[0m\u001b[0m\n\u001b[0m\u001b[1;32m      3\u001b[0m \u001b[0;34m\u001b[0m\u001b[0m\n\u001b[1;32m      4\u001b[0m \u001b[0;34m\u001b[0m\u001b[0m\n\u001b[1;32m      5\u001b[0m \u001b[0;31m# fit classifier to training set\u001b[0m\u001b[0;34m\u001b[0m\u001b[0;34m\u001b[0m\u001b[0;34m\u001b[0m\u001b[0m\n",
            "\u001b[0;31mNameError\u001b[0m: name 'SVC' is not defined"
          ]
        }
      ]
    },
    {
      "cell_type": "markdown",
      "metadata": {
        "id": "ayLpJcvExPap"
      },
      "source": [
        "# USING LOGISTIC REGRESSION TO PERFORM BINARY CLASSIFICATION"
      ]
    },
    {
      "cell_type": "code",
      "metadata": {
        "id": "tx2g39kt944o",
        "colab": {
          "base_uri": "https://localhost:8080/"
        },
        "outputId": "977242f7-a9c6-4f6a-a4da-8712b837aeda"
      },
      "source": [
        "from sklearn.linear_model import LogisticRegression\n",
        "from sklearn.metrics import accuracy_score\n",
        "\n",
        "\n",
        "log_res=LogisticRegression()\n",
        "log_res.fit(X_train,y_train)\n",
        "\n",
        "y_pred=log_res.predict(X_test)\n",
        "\n",
        "print(\"Logistic Regression accuracy score : \",accuracy_score(y_test,y_pred))\n"
      ],
      "execution_count": 11,
      "outputs": [
        {
          "output_type": "stream",
          "text": [
            "Logistic Regression accuracy score :  0.6799043062200957\n"
          ],
          "name": "stdout"
        }
      ]
    },
    {
      "cell_type": "markdown",
      "metadata": {
        "id": "ZWAaPkM7zg6_"
      },
      "source": [
        "# USING XGBOOST TO PERFORM BINARY CLASSIFICATION"
      ]
    },
    {
      "cell_type": "code",
      "metadata": {
        "colab": {
          "base_uri": "https://localhost:8080/"
        },
        "id": "pBajwuNrzno9",
        "outputId": "9f34589f-676d-412f-80e2-c76e07db56d5"
      },
      "source": [
        "from xgboost import *\n",
        "xg_boost=XGBClassifier()\n",
        "xg_boost.fit(X_train,y_train)\n",
        "\n",
        "y_pred=xg_boost.predict(X_test)\n",
        "\n",
        "print(\"XGBoost Accuracy Score: \",accuracy_score(y_test,y_pred))\n"
      ],
      "execution_count": 12,
      "outputs": [
        {
          "output_type": "stream",
          "text": [
            "XGBoost Accuracy Score:  0.6941387559808613\n"
          ],
          "name": "stdout"
        }
      ]
    }
  ]
}