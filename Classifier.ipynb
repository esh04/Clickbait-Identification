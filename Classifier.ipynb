{
  "nbformat": 4,
  "nbformat_minor": 0,
  "metadata": {
    "colab": {
      "name": "Classifier.ipynb",
      "provenance": [],
      "collapsed_sections": []
    },
    "kernelspec": {
      "display_name": "Python 3",
      "language": "python",
      "name": "python3"
    },
    "language_info": {
      "codemirror_mode": {
        "name": "ipython",
        "version": 3
      },
      "file_extension": ".py",
      "mimetype": "text/x-python",
      "name": "python",
      "nbconvert_exporter": "python",
      "pygments_lexer": "ipython3",
      "version": "3.8.10"
    }
  },
  "cells": [
    {
      "cell_type": "markdown",
      "metadata": {
        "id": "view-in-github"
      },
      "source": [
        "<a href=\"https://colab.research.google.com/github/esh04/Clickbait-Identification/blob/Esh/Classifier.ipynb\" target=\"_parent\"><img src=\"https://colab.research.google.com/assets/colab-badge.svg\" alt=\"Open In Colab\"/></a>"
      ]
    },
    {
      "cell_type": "markdown",
      "metadata": {
        "id": "JbsnlSmbPl_p"
      },
      "source": [
        "\n",
        "\n",
        "---\n",
        "\n",
        "\n",
        "# **WE PERFORM BINARY CLASSIFICATION BASED ON THE DATA AND PARAMETERS WE HAVE GENERATED AND PREDICT IN THE TEST DATASET**\n",
        "\n",
        "\n",
        "---\n",
        "\n"
      ]
    },
    {
      "cell_type": "markdown",
      "metadata": {
        "id": "xT0rPDVWPycl"
      },
      "source": [
        "## Importing the parameters generated for prediction purposes"
      ]
    },
    {
      "cell_type": "code",
      "metadata": {
        "colab": {
          "base_uri": "https://localhost:8080/",
          "height": 521
        },
        "id": "xiroNRZt5UUg",
        "outputId": "ba195734-52d3-47b4-c547-dac8c13d55d0"
      },
      "source": [
        "import pandas as pd\n",
        "\n",
        "path = \"/content/final_parameters.csv\"\n",
        "df = pd.read_csv(path)\n",
        "df.drop(['num_tokens','ORG_count','total_NER'], inplace=True, axis=1)\n",
        "df"
      ],
      "execution_count": 1,
      "outputs": [
        {
          "output_type": "execute_result",
          "data": {
            "text/html": [
              "<div>\n",
              "<style scoped>\n",
              "    .dataframe tbody tr th:only-of-type {\n",
              "        vertical-align: middle;\n",
              "    }\n",
              "\n",
              "    .dataframe tbody tr th {\n",
              "        vertical-align: top;\n",
              "    }\n",
              "\n",
              "    .dataframe thead th {\n",
              "        text-align: right;\n",
              "    }\n",
              "</style>\n",
              "<table border=\"1\" class=\"dataframe\">\n",
              "  <thead>\n",
              "    <tr style=\"text-align: right;\">\n",
              "      <th></th>\n",
              "      <th>sentence</th>\n",
              "      <th>label</th>\n",
              "      <th>is_que</th>\n",
              "      <th>is_exclam</th>\n",
              "      <th>is_quote</th>\n",
              "      <th>num_stopwords</th>\n",
              "      <th>has_num</th>\n",
              "      <th>PER_count</th>\n",
              "      <th>LOC_count</th>\n",
              "      <th>num_noun</th>\n",
              "      <th>num_verb</th>\n",
              "      <th>num_adj</th>\n",
              "      <th>num_noun.1</th>\n",
              "      <th>num_verb.1</th>\n",
              "      <th>num_adj.1</th>\n",
              "    </tr>\n",
              "  </thead>\n",
              "  <tbody>\n",
              "    <tr>\n",
              "      <th>0</th>\n",
              "      <td>यह एक जबड़ा छोड़ने वाली डिलीवरी है! 50-टन व्हे...</td>\n",
              "      <td>0</td>\n",
              "      <td>0</td>\n",
              "      <td>1</td>\n",
              "      <td>0</td>\n",
              "      <td>19</td>\n",
              "      <td>1</td>\n",
              "      <td>0</td>\n",
              "      <td>1</td>\n",
              "      <td>8</td>\n",
              "      <td>3</td>\n",
              "      <td>5</td>\n",
              "      <td>8</td>\n",
              "      <td>3</td>\n",
              "      <td>5</td>\n",
              "    </tr>\n",
              "    <tr>\n",
              "      <th>1</th>\n",
              "      <td>जस्टिन बीबर नई तस्वीरों की बाढ़ के साथ अपने इं...</td>\n",
              "      <td>1</td>\n",
              "      <td>0</td>\n",
              "      <td>0</td>\n",
              "      <td>0</td>\n",
              "      <td>5</td>\n",
              "      <td>0</td>\n",
              "      <td>2</td>\n",
              "      <td>0</td>\n",
              "      <td>6</td>\n",
              "      <td>1</td>\n",
              "      <td>2</td>\n",
              "      <td>6</td>\n",
              "      <td>1</td>\n",
              "      <td>2</td>\n",
              "    </tr>\n",
              "    <tr>\n",
              "      <th>2</th>\n",
              "      <td>रॉल्फ हैरिस कुछ ही महीनों में मुक्त हो सकता है...</td>\n",
              "      <td>0</td>\n",
              "      <td>0</td>\n",
              "      <td>0</td>\n",
              "      <td>0</td>\n",
              "      <td>13</td>\n",
              "      <td>0</td>\n",
              "      <td>2</td>\n",
              "      <td>0</td>\n",
              "      <td>5</td>\n",
              "      <td>2</td>\n",
              "      <td>3</td>\n",
              "      <td>5</td>\n",
              "      <td>2</td>\n",
              "      <td>3</td>\n",
              "    </tr>\n",
              "    <tr>\n",
              "      <th>3</th>\n",
              "      <td>बीएमसी चुनाव: बीजेपी, शिवसेना ने मतदाताओं को ग...</td>\n",
              "      <td>0</td>\n",
              "      <td>0</td>\n",
              "      <td>0</td>\n",
              "      <td>0</td>\n",
              "      <td>5</td>\n",
              "      <td>0</td>\n",
              "      <td>0</td>\n",
              "      <td>0</td>\n",
              "      <td>5</td>\n",
              "      <td>3</td>\n",
              "      <td>1</td>\n",
              "      <td>5</td>\n",
              "      <td>2</td>\n",
              "      <td>1</td>\n",
              "    </tr>\n",
              "    <tr>\n",
              "      <th>4</th>\n",
              "      <td>चीनी पुलिस ने 100 किलोग्राम मेथ जब्त किया\\n</td>\n",
              "      <td>0</td>\n",
              "      <td>0</td>\n",
              "      <td>0</td>\n",
              "      <td>0</td>\n",
              "      <td>2</td>\n",
              "      <td>1</td>\n",
              "      <td>0</td>\n",
              "      <td>0</td>\n",
              "      <td>4</td>\n",
              "      <td>1</td>\n",
              "      <td>2</td>\n",
              "      <td>4</td>\n",
              "      <td>1</td>\n",
              "      <td>2</td>\n",
              "    </tr>\n",
              "    <tr>\n",
              "      <th>...</th>\n",
              "      <td>...</td>\n",
              "      <td>...</td>\n",
              "      <td>...</td>\n",
              "      <td>...</td>\n",
              "      <td>...</td>\n",
              "      <td>...</td>\n",
              "      <td>...</td>\n",
              "      <td>...</td>\n",
              "      <td>...</td>\n",
              "      <td>...</td>\n",
              "      <td>...</td>\n",
              "      <td>...</td>\n",
              "      <td>...</td>\n",
              "      <td>...</td>\n",
              "      <td>...</td>\n",
              "    </tr>\n",
              "    <tr>\n",
              "      <th>41795</th>\n",
              "      <td>ईएसपीएन ने &amp;#39;स्पोर्ट्स बबल&amp;#39; के लीडिंग ए...</td>\n",
              "      <td>1</td>\n",
              "      <td>0</td>\n",
              "      <td>0</td>\n",
              "      <td>1</td>\n",
              "      <td>4</td>\n",
              "      <td>1</td>\n",
              "      <td>0</td>\n",
              "      <td>0</td>\n",
              "      <td>136292</td>\n",
              "      <td>30802</td>\n",
              "      <td>34373</td>\n",
              "      <td>5</td>\n",
              "      <td>2</td>\n",
              "      <td>0</td>\n",
              "    </tr>\n",
              "    <tr>\n",
              "      <th>41796</th>\n",
              "      <td>जलते हुए आदमी की ये तस्वीरें आपको डब्ल्यूटीएफ ...</td>\n",
              "      <td>1</td>\n",
              "      <td>0</td>\n",
              "      <td>0</td>\n",
              "      <td>0</td>\n",
              "      <td>7</td>\n",
              "      <td>0</td>\n",
              "      <td>0</td>\n",
              "      <td>0</td>\n",
              "      <td>136295</td>\n",
              "      <td>30805</td>\n",
              "      <td>34373</td>\n",
              "      <td>3</td>\n",
              "      <td>3</td>\n",
              "      <td>0</td>\n",
              "    </tr>\n",
              "    <tr>\n",
              "      <th>41797</th>\n",
              "      <td>मस्तिष्क रक्त के थक्के के साथ अस्पताल में रूपा...</td>\n",
              "      <td>0</td>\n",
              "      <td>0</td>\n",
              "      <td>0</td>\n",
              "      <td>0</td>\n",
              "      <td>4</td>\n",
              "      <td>0</td>\n",
              "      <td>2</td>\n",
              "      <td>0</td>\n",
              "      <td>136302</td>\n",
              "      <td>30805</td>\n",
              "      <td>34373</td>\n",
              "      <td>6</td>\n",
              "      <td>0</td>\n",
              "      <td>1</td>\n",
              "    </tr>\n",
              "    <tr>\n",
              "      <th>41798</th>\n",
              "      <td>सबसे बड़ी आसानी के साथ। । ।\\n</td>\n",
              "      <td>0</td>\n",
              "      <td>0</td>\n",
              "      <td>0</td>\n",
              "      <td>0</td>\n",
              "      <td>2</td>\n",
              "      <td>0</td>\n",
              "      <td>2</td>\n",
              "      <td>0</td>\n",
              "      <td>136303</td>\n",
              "      <td>30805</td>\n",
              "      <td>34374</td>\n",
              "      <td>1</td>\n",
              "      <td>0</td>\n",
              "      <td>1</td>\n",
              "    </tr>\n",
              "    <tr>\n",
              "      <th>41799</th>\n",
              "      <td>द वीक के सबसे फेब और द्राब सेलिब्रिटी लुक\\n</td>\n",
              "      <td>1</td>\n",
              "      <td>0</td>\n",
              "      <td>0</td>\n",
              "      <td>0</td>\n",
              "      <td>4</td>\n",
              "      <td>0</td>\n",
              "      <td>0</td>\n",
              "      <td>0</td>\n",
              "      <td>136307</td>\n",
              "      <td>30805</td>\n",
              "      <td>34376</td>\n",
              "      <td>4</td>\n",
              "      <td>0</td>\n",
              "      <td>2</td>\n",
              "    </tr>\n",
              "  </tbody>\n",
              "</table>\n",
              "<p>41800 rows × 15 columns</p>\n",
              "</div>"
            ],
            "text/plain": [
              "                                                sentence  ...  num_adj.1\n",
              "0      यह एक जबड़ा छोड़ने वाली डिलीवरी है! 50-टन व्हे...  ...          5\n",
              "1      जस्टिन बीबर नई तस्वीरों की बाढ़ के साथ अपने इं...  ...          2\n",
              "2      रॉल्फ हैरिस कुछ ही महीनों में मुक्त हो सकता है...  ...          3\n",
              "3      बीएमसी चुनाव: बीजेपी, शिवसेना ने मतदाताओं को ग...  ...          1\n",
              "4            चीनी पुलिस ने 100 किलोग्राम मेथ जब्त किया\\n  ...          2\n",
              "...                                                  ...  ...        ...\n",
              "41795  ईएसपीएन ने &#39;स्पोर्ट्स बबल&#39; के लीडिंग ए...  ...          0\n",
              "41796  जलते हुए आदमी की ये तस्वीरें आपको डब्ल्यूटीएफ ...  ...          0\n",
              "41797  मस्तिष्क रक्त के थक्के के साथ अस्पताल में रूपा...  ...          1\n",
              "41798                      सबसे बड़ी आसानी के साथ। । ।\\n  ...          1\n",
              "41799        द वीक के सबसे फेब और द्राब सेलिब्रिटी लुक\\n  ...          2\n",
              "\n",
              "[41800 rows x 15 columns]"
            ]
          },
          "metadata": {
            "tags": []
          },
          "execution_count": 1
        }
      ]
    },
    {
      "cell_type": "code",
      "metadata": {
        "id": "TEX2rV9F7Bqw"
      },
      "source": [
        "X = df.drop(['sentence','label'],axis=1)\n",
        "y = df['label']"
      ],
      "execution_count": 2,
      "outputs": []
    },
    {
      "cell_type": "markdown",
      "metadata": {
        "id": "wJFpgHWnP5P9"
      },
      "source": [
        "## Splitting the training dataset into suitable ratio for training and verification(testing)"
      ]
    },
    {
      "cell_type": "code",
      "metadata": {
        "id": "3momC48o77KQ"
      },
      "source": [
        "from sklearn.model_selection import train_test_split\n",
        "X_train, X_test, y_train, y_test = train_test_split(X, y, test_size = 0.20)\n"
      ],
      "execution_count": 3,
      "outputs": []
    },
    {
      "cell_type": "markdown",
      "metadata": {
        "id": "sBJ-X62fQSlj"
      },
      "source": [
        "## Scaling the data appropriately to benefit the classification process "
      ]
    },
    {
      "cell_type": "code",
      "metadata": {
        "colab": {
          "base_uri": "https://localhost:8080/",
          "height": 297
        },
        "id": "xKgus-F69PUo",
        "outputId": "f6d7dde4-3478-49cc-9cea-e3174a66825d"
      },
      "source": [
        "cols = X_train.columns\n",
        "from sklearn.preprocessing import StandardScaler\n",
        "\n",
        "scaler = StandardScaler()\n",
        "\n",
        "X_train = scaler.fit_transform(X_train)\n",
        "\n",
        "X_test = scaler.transform(X_test)\n",
        "X_train = pd.DataFrame(X_train, columns=[cols])\n",
        "X_test = pd.DataFrame(X_test, columns=[cols])\n",
        "X_train.describe()\n"
      ],
      "execution_count": 4,
      "outputs": [
        {
          "output_type": "execute_result",
          "data": {
            "text/html": [
              "<div>\n",
              "<style scoped>\n",
              "    .dataframe tbody tr th:only-of-type {\n",
              "        vertical-align: middle;\n",
              "    }\n",
              "\n",
              "    .dataframe tbody tr th {\n",
              "        vertical-align: top;\n",
              "    }\n",
              "\n",
              "    .dataframe thead tr th {\n",
              "        text-align: left;\n",
              "    }\n",
              "</style>\n",
              "<table border=\"1\" class=\"dataframe\">\n",
              "  <thead>\n",
              "    <tr>\n",
              "      <th></th>\n",
              "      <th>is_que</th>\n",
              "      <th>is_exclam</th>\n",
              "      <th>is_quote</th>\n",
              "      <th>num_stopwords</th>\n",
              "      <th>has_num</th>\n",
              "      <th>PER_count</th>\n",
              "      <th>LOC_count</th>\n",
              "      <th>num_noun</th>\n",
              "      <th>num_verb</th>\n",
              "      <th>num_adj</th>\n",
              "      <th>num_noun.1</th>\n",
              "      <th>num_verb.1</th>\n",
              "      <th>num_adj.1</th>\n",
              "    </tr>\n",
              "  </thead>\n",
              "  <tbody>\n",
              "    <tr>\n",
              "      <th>count</th>\n",
              "      <td>3.344000e+04</td>\n",
              "      <td>3.344000e+04</td>\n",
              "      <td>3.344000e+04</td>\n",
              "      <td>3.344000e+04</td>\n",
              "      <td>3.344000e+04</td>\n",
              "      <td>3.344000e+04</td>\n",
              "      <td>3.344000e+04</td>\n",
              "      <td>3.344000e+04</td>\n",
              "      <td>3.344000e+04</td>\n",
              "      <td>3.344000e+04</td>\n",
              "      <td>3.344000e+04</td>\n",
              "      <td>3.344000e+04</td>\n",
              "      <td>3.344000e+04</td>\n",
              "    </tr>\n",
              "    <tr>\n",
              "      <th>mean</th>\n",
              "      <td>-8.618659e-15</td>\n",
              "      <td>-1.229756e-15</td>\n",
              "      <td>-1.516158e-15</td>\n",
              "      <td>-2.452882e-16</td>\n",
              "      <td>-1.718694e-15</td>\n",
              "      <td>-5.647928e-16</td>\n",
              "      <td>7.534510e-16</td>\n",
              "      <td>1.806901e-16</td>\n",
              "      <td>-1.087428e-15</td>\n",
              "      <td>-1.650726e-15</td>\n",
              "      <td>4.872830e-17</td>\n",
              "      <td>1.026624e-16</td>\n",
              "      <td>-1.166166e-17</td>\n",
              "    </tr>\n",
              "    <tr>\n",
              "      <th>std</th>\n",
              "      <td>1.000015e+00</td>\n",
              "      <td>1.000015e+00</td>\n",
              "      <td>1.000015e+00</td>\n",
              "      <td>1.000015e+00</td>\n",
              "      <td>1.000015e+00</td>\n",
              "      <td>1.000015e+00</td>\n",
              "      <td>1.000015e+00</td>\n",
              "      <td>1.000015e+00</td>\n",
              "      <td>1.000015e+00</td>\n",
              "      <td>1.000015e+00</td>\n",
              "      <td>1.000015e+00</td>\n",
              "      <td>1.000015e+00</td>\n",
              "      <td>1.000015e+00</td>\n",
              "    </tr>\n",
              "    <tr>\n",
              "      <th>min</th>\n",
              "      <td>-2.454927e-01</td>\n",
              "      <td>-1.349640e-01</td>\n",
              "      <td>-3.403776e-01</td>\n",
              "      <td>-1.506921e+00</td>\n",
              "      <td>-6.334618e-01</td>\n",
              "      <td>-7.757828e-01</td>\n",
              "      <td>-6.929750e-01</td>\n",
              "      <td>-8.587560e-01</td>\n",
              "      <td>-8.586247e-01</td>\n",
              "      <td>-8.587985e-01</td>\n",
              "      <td>-1.953141e+00</td>\n",
              "      <td>-1.184523e+00</td>\n",
              "      <td>-1.056067e+00</td>\n",
              "    </tr>\n",
              "    <tr>\n",
              "      <th>25%</th>\n",
              "      <td>-2.454927e-01</td>\n",
              "      <td>-1.349640e-01</td>\n",
              "      <td>-3.403776e-01</td>\n",
              "      <td>-5.030875e-01</td>\n",
              "      <td>-6.334618e-01</td>\n",
              "      <td>-7.757828e-01</td>\n",
              "      <td>-6.929750e-01</td>\n",
              "      <td>-8.586227e-01</td>\n",
              "      <td>-8.585259e-01</td>\n",
              "      <td>-8.587101e-01</td>\n",
              "      <td>-5.860158e-01</td>\n",
              "      <td>-2.772126e-01</td>\n",
              "      <td>-1.056067e+00</td>\n",
              "    </tr>\n",
              "    <tr>\n",
              "      <th>50%</th>\n",
              "      <td>-2.454927e-01</td>\n",
              "      <td>-1.349640e-01</td>\n",
              "      <td>-3.403776e-01</td>\n",
              "      <td>-2.521291e-01</td>\n",
              "      <td>-6.334618e-01</td>\n",
              "      <td>-7.757828e-01</td>\n",
              "      <td>-6.929750e-01</td>\n",
              "      <td>-5.054096e-01</td>\n",
              "      <td>-5.031582e-01</td>\n",
              "      <td>-5.026735e-01</td>\n",
              "      <td>-2.442346e-01</td>\n",
              "      <td>-2.772126e-01</td>\n",
              "      <td>-3.277451e-01</td>\n",
              "    </tr>\n",
              "    <tr>\n",
              "      <th>75%</th>\n",
              "      <td>-2.454927e-01</td>\n",
              "      <td>-1.349640e-01</td>\n",
              "      <td>-3.403776e-01</td>\n",
              "      <td>5.007460e-01</td>\n",
              "      <td>1.578627e+00</td>\n",
              "      <td>3.793077e-01</td>\n",
              "      <td>1.002451e+00</td>\n",
              "      <td>8.326762e-01</td>\n",
              "      <td>8.246426e-01</td>\n",
              "      <td>8.282071e-01</td>\n",
              "      <td>4.393279e-01</td>\n",
              "      <td>6.300977e-01</td>\n",
              "      <td>4.005773e-01</td>\n",
              "    </tr>\n",
              "    <tr>\n",
              "      <th>max</th>\n",
              "      <td>3.199516e+01</td>\n",
              "      <td>3.002003e+01</td>\n",
              "      <td>2.937914e+00</td>\n",
              "      <td>3.739163e+01</td>\n",
              "      <td>1.578627e+00</td>\n",
              "      <td>7.309851e+00</td>\n",
              "      <td>7.784156e+00</td>\n",
              "      <td>2.169074e+00</td>\n",
              "      <td>2.184350e+00</td>\n",
              "      <td>2.181420e+00</td>\n",
              "      <td>3.769348e+01</td>\n",
              "      <td>2.512747e+01</td>\n",
              "      <td>3.026179e+01</td>\n",
              "    </tr>\n",
              "  </tbody>\n",
              "</table>\n",
              "</div>"
            ],
            "text/plain": [
              "             is_que     is_exclam  ...    num_verb.1     num_adj.1\n",
              "count  3.344000e+04  3.344000e+04  ...  3.344000e+04  3.344000e+04\n",
              "mean  -8.618659e-15 -1.229756e-15  ...  1.026624e-16 -1.166166e-17\n",
              "std    1.000015e+00  1.000015e+00  ...  1.000015e+00  1.000015e+00\n",
              "min   -2.454927e-01 -1.349640e-01  ... -1.184523e+00 -1.056067e+00\n",
              "25%   -2.454927e-01 -1.349640e-01  ... -2.772126e-01 -1.056067e+00\n",
              "50%   -2.454927e-01 -1.349640e-01  ... -2.772126e-01 -3.277451e-01\n",
              "75%   -2.454927e-01 -1.349640e-01  ...  6.300977e-01  4.005773e-01\n",
              "max    3.199516e+01  3.002003e+01  ...  2.512747e+01  3.026179e+01\n",
              "\n",
              "[8 rows x 13 columns]"
            ]
          },
          "metadata": {
            "tags": []
          },
          "execution_count": 4
        }
      ]
    },
    {
      "cell_type": "markdown",
      "metadata": {
        "id": "OloQDBugQdOe"
      },
      "source": [
        "# USING SVM TO PERFORM BINARY CLASSIFICATION\n",
        "\n"
      ]
    },
    {
      "cell_type": "code",
      "metadata": {
        "colab": {
          "base_uri": "https://localhost:8080/"
        },
        "id": "xGbPyHN892uP",
        "outputId": "0c5d9e91-6ea1-46a5-b24d-b9866178fbb9"
      },
      "source": [
        "# instantiate classifier with rbf kernel and C=100\n",
        "from sklearn.metrics import precision_score\n",
        "from sklearn.svm import SVC\n",
        "\n",
        "\n",
        "# import metrics to compute accuracy\n",
        "from sklearn.metrics import accuracy_score\n",
        "\n",
        "\n",
        "# instantiate classifier with default hyperparameters\n",
        "svc=SVC()\n",
        "\n",
        "svc=SVC(C=100.0) \n",
        "\n",
        "\n",
        "# fit classifier to training set\n",
        "svc.fit(X_train,y_train)\n",
        "\n",
        "\n",
        "# make predictions on test set\n",
        "y_pred=svc.predict(X_test)\n",
        "\n",
        "\n",
        "# compute and print accuracy score\n",
        "print('Model accuracy score with rbf kernel and C=100.0 : {0:0.4f}'. format(accuracy_score(y_test, y_pred)))\n",
        "print('Precision Score : %.4f '%precision_score(y_test,y_pred))"
      ],
      "execution_count": 15,
      "outputs": [
        {
          "output_type": "stream",
          "text": [
            "Model accuracy score with rbf kernel and C=100.0 : 0.6874\n",
            "Precision Score :  0.720425343376163\n"
          ],
          "name": "stdout"
        }
      ]
    },
    {
      "cell_type": "markdown",
      "metadata": {
        "id": "ayLpJcvExPap"
      },
      "source": [
        "# USING LOGISTIC REGRESSION TO PERFORM BINARY CLASSIFICATION"
      ]
    },
    {
      "cell_type": "code",
      "metadata": {
        "colab": {
          "base_uri": "https://localhost:8080/"
        },
        "id": "tx2g39kt944o",
        "outputId": "328bdcd9-b5a2-423e-80f8-f48a5f8729f5"
      },
      "source": [
        "from sklearn.linear_model import LogisticRegression\n",
        "from sklearn.metrics import accuracy_score\n",
        "\n",
        "\n",
        "log_res=LogisticRegression()\n",
        "log_res.fit(X_train,y_train)\n",
        "\n",
        "y_pred=log_res.predict(X_test)\n",
        "\n",
        "print('Logistic Regression Accuracy Score : %.4f'%accuracy_score(y_test,y_pred))\n",
        "print(\"Logistic Regression Precision Score : %.4f \"%precision_score(y_test,y_pred))\n"
      ],
      "execution_count": 17,
      "outputs": [
        {
          "output_type": "stream",
          "text": [
            "Logistic Regression Accuracy Score : 0.6736\n",
            "Logistic Regression Precision Score : 0.6608 \n"
          ],
          "name": "stdout"
        }
      ]
    },
    {
      "cell_type": "markdown",
      "metadata": {
        "id": "ZWAaPkM7zg6_"
      },
      "source": [
        "# USING XGBOOST TO PERFORM BINARY CLASSIFICATION"
      ]
    },
    {
      "cell_type": "code",
      "metadata": {
        "colab": {
          "base_uri": "https://localhost:8080/"
        },
        "id": "pBajwuNrzno9",
        "outputId": "22d425c5-9988-4c9a-f44f-1c9751000225"
      },
      "source": [
        "from xgboost import *\n",
        "xg_boost=XGBClassifier()\n",
        "xg_boost.fit(X_train,y_train)\n",
        "\n",
        "y_pred=xg_boost.predict(X_test)\n",
        "\n",
        "print(\"XGBoost Accuracy Score: %.4f \"%accuracy_score(y_test,y_pred))\n",
        "print(\"Precision Score: %.4f \"%precision_score(y_test,y_pred))\n"
      ],
      "execution_count": 18,
      "outputs": [
        {
          "output_type": "stream",
          "text": [
            "XGBoost Accuracy Score: 0.6890 \n",
            "Precision Score: 0.6975 \n"
          ],
          "name": "stdout"
        }
      ]
    }
  ]
}