{
  "nbformat": 4,
  "nbformat_minor": 0,
  "metadata": {
    "colab": {
      "name": "Classifier.ipynb",
      "provenance": [],
      "collapsed_sections": [],
      "authorship_tag": "ABX9TyPTmgpXM3q2NZh/QeiOCj2c",
      "include_colab_link": true
    },
    "kernelspec": {
      "name": "python3",
      "display_name": "Python 3"
    },
    "language_info": {
      "name": "python"
    }
  },
  "cells": [
    {
      "cell_type": "markdown",
      "metadata": {
        "id": "view-in-github",
        "colab_type": "text"
      },
      "source": [
        "<a href=\"https://colab.research.google.com/github/esh04/Clickbait-Identification/blob/main/Classifier.ipynb\" target=\"_parent\"><img src=\"https://colab.research.google.com/assets/colab-badge.svg\" alt=\"Open In Colab\"/></a>"
      ]
    },
    {
      "cell_type": "markdown",
      "metadata": {
        "id": "JbsnlSmbPl_p"
      },
      "source": [
        "\n",
        "\n",
        "---\n",
        "\n",
        "\n",
        "# **WE PERFORM BINARY CLASSIFICATION BASED ON THE DATA AND PARAMETERS WE HAVE GENERATED AND PREDICT IN THE TEST DATASET**\n",
        "\n",
        "\n",
        "---\n",
        "\n"
      ]
    },
    {
      "cell_type": "markdown",
      "metadata": {
        "id": "XEvn6Upyj4yo"
      },
      "source": [
        "# Importing the required libraries"
      ]
    },
    {
      "cell_type": "code",
      "metadata": {
        "id": "ed_51LLfj-Xt"
      },
      "source": [
        "import pandas as pd\n",
        "from sklearn.model_selection import train_test_split\n",
        "from sklearn.preprocessing import StandardScaler\n",
        "from sklearn.metrics import precision_score\n",
        "from sklearn.svm import SVC\n",
        "from sklearn.metrics import accuracy_score\n",
        "from sklearn.linear_model import LogisticRegression\n",
        "from sklearn.metrics import accuracy_score\n",
        "from sklearn.metrics import accuracy_score, f1_score, precision_score, recall_score, classification_report, confusion_matrix\n",
        "from xgboost import *"
      ],
      "execution_count": 1,
      "outputs": []
    },
    {
      "cell_type": "markdown",
      "metadata": {
        "id": "xT0rPDVWPycl"
      },
      "source": [
        "## Importing the parameters generated for prediction purposes"
      ]
    },
    {
      "cell_type": "code",
      "metadata": {
        "id": "xiroNRZt5UUg"
      },
      "source": [
        "path = \"/content/final_parameters.csv\"\n",
        "df = pd.read_csv(path)\n"
      ],
      "execution_count": 45,
      "outputs": []
    },
    {
      "cell_type": "markdown",
      "metadata": {
        "id": "Io1QnDBJsOJZ"
      },
      "source": [
        "# We can generate different classification metrics by temporarily removing columns which arent required\n",
        "## We remove columns according to classes mentioned below:\n",
        "\n",
        "\n",
        "1. Structural: is_que, num_tokens, is_exclam, is_quote, num_stopwords, has_num\t\n",
        "2. NER: PER_count, ORG_count, LOC_count, total_NER\n",
        "3. POS: num_noun, num_verb, num_adj\n",
        "\n",
        "\n"
      ]
    },
    {
      "cell_type": "code",
      "metadata": {
        "colab": {
          "base_uri": "https://localhost:8080/",
          "height": 572
        },
        "id": "_wtH7LV5sKLw",
        "outputId": "f9f8fefa-470a-4a0e-de18-9034cc648505"
      },
      "source": [
        "df_temp = df\n",
        "#df_temp.drop(['PER_count', 'ORG_count', 'LOC_count', 'total_NER'], inplace=True, axis=1)\n",
        "#df_temp.drop(['num_noun', 'num_verb', 'num_adj'], inplace=True, axis=1)\n",
        "#df_temp.drop(['is_que','num_tokens','is_exclam','is_quote','num_stopwords'], inplace=True, axis=1)\n",
        "\n",
        "df_temp"
      ],
      "execution_count": 46,
      "outputs": [
        {
          "output_type": "execute_result",
          "data": {
            "text/html": [
              "<div>\n",
              "<style scoped>\n",
              "    .dataframe tbody tr th:only-of-type {\n",
              "        vertical-align: middle;\n",
              "    }\n",
              "\n",
              "    .dataframe tbody tr th {\n",
              "        vertical-align: top;\n",
              "    }\n",
              "\n",
              "    .dataframe thead th {\n",
              "        text-align: right;\n",
              "    }\n",
              "</style>\n",
              "<table border=\"1\" class=\"dataframe\">\n",
              "  <thead>\n",
              "    <tr style=\"text-align: right;\">\n",
              "      <th></th>\n",
              "      <th>sentence</th>\n",
              "      <th>label</th>\n",
              "      <th>is_que</th>\n",
              "      <th>num_tokens</th>\n",
              "      <th>is_exclam</th>\n",
              "      <th>is_quote</th>\n",
              "      <th>num_stopwords</th>\n",
              "      <th>has_num</th>\n",
              "      <th>PER_count</th>\n",
              "      <th>ORG_count</th>\n",
              "      <th>LOC_count</th>\n",
              "      <th>total_NER</th>\n",
              "      <th>num_noun</th>\n",
              "      <th>num_verb</th>\n",
              "      <th>num_adj</th>\n",
              "    </tr>\n",
              "  </thead>\n",
              "  <tbody>\n",
              "    <tr>\n",
              "      <th>0</th>\n",
              "      <td>यह एक जबड़ा छोड़ने वाली डिलीवरी है! 50-टन व्हे...</td>\n",
              "      <td>0</td>\n",
              "      <td>0</td>\n",
              "      <td>34</td>\n",
              "      <td>1</td>\n",
              "      <td>0</td>\n",
              "      <td>19</td>\n",
              "      <td>1</td>\n",
              "      <td>0</td>\n",
              "      <td>0</td>\n",
              "      <td>1</td>\n",
              "      <td>1</td>\n",
              "      <td>8</td>\n",
              "      <td>3</td>\n",
              "      <td>5</td>\n",
              "    </tr>\n",
              "    <tr>\n",
              "      <th>1</th>\n",
              "      <td>जस्टिन बीबर नई तस्वीरों की बाढ़ के साथ अपने इं...</td>\n",
              "      <td>1</td>\n",
              "      <td>0</td>\n",
              "      <td>14</td>\n",
              "      <td>0</td>\n",
              "      <td>0</td>\n",
              "      <td>5</td>\n",
              "      <td>0</td>\n",
              "      <td>2</td>\n",
              "      <td>0</td>\n",
              "      <td>0</td>\n",
              "      <td>2</td>\n",
              "      <td>6</td>\n",
              "      <td>1</td>\n",
              "      <td>2</td>\n",
              "    </tr>\n",
              "    <tr>\n",
              "      <th>2</th>\n",
              "      <td>रॉल्फ हैरिस कुछ ही महीनों में मुक्त हो सकता है...</td>\n",
              "      <td>0</td>\n",
              "      <td>0</td>\n",
              "      <td>21</td>\n",
              "      <td>0</td>\n",
              "      <td>0</td>\n",
              "      <td>13</td>\n",
              "      <td>0</td>\n",
              "      <td>2</td>\n",
              "      <td>0</td>\n",
              "      <td>0</td>\n",
              "      <td>2</td>\n",
              "      <td>5</td>\n",
              "      <td>2</td>\n",
              "      <td>3</td>\n",
              "    </tr>\n",
              "    <tr>\n",
              "      <th>3</th>\n",
              "      <td>बीएमसी चुनाव: बीजेपी, शिवसेना ने मतदाताओं को ग...</td>\n",
              "      <td>0</td>\n",
              "      <td>0</td>\n",
              "      <td>15</td>\n",
              "      <td>0</td>\n",
              "      <td>0</td>\n",
              "      <td>5</td>\n",
              "      <td>0</td>\n",
              "      <td>0</td>\n",
              "      <td>1</td>\n",
              "      <td>0</td>\n",
              "      <td>1</td>\n",
              "      <td>5</td>\n",
              "      <td>2</td>\n",
              "      <td>1</td>\n",
              "    </tr>\n",
              "    <tr>\n",
              "      <th>4</th>\n",
              "      <td>चीनी पुलिस ने 100 किलोग्राम मेथ जब्त किया\\n</td>\n",
              "      <td>0</td>\n",
              "      <td>0</td>\n",
              "      <td>8</td>\n",
              "      <td>0</td>\n",
              "      <td>0</td>\n",
              "      <td>2</td>\n",
              "      <td>1</td>\n",
              "      <td>0</td>\n",
              "      <td>1</td>\n",
              "      <td>0</td>\n",
              "      <td>1</td>\n",
              "      <td>4</td>\n",
              "      <td>1</td>\n",
              "      <td>2</td>\n",
              "    </tr>\n",
              "    <tr>\n",
              "      <th>...</th>\n",
              "      <td>...</td>\n",
              "      <td>...</td>\n",
              "      <td>...</td>\n",
              "      <td>...</td>\n",
              "      <td>...</td>\n",
              "      <td>...</td>\n",
              "      <td>...</td>\n",
              "      <td>...</td>\n",
              "      <td>...</td>\n",
              "      <td>...</td>\n",
              "      <td>...</td>\n",
              "      <td>...</td>\n",
              "      <td>...</td>\n",
              "      <td>...</td>\n",
              "      <td>...</td>\n",
              "    </tr>\n",
              "    <tr>\n",
              "      <th>41795</th>\n",
              "      <td>ईएसपीएन ने &amp;#39;स्पोर्ट्स बबल&amp;#39; के लीडिंग ए...</td>\n",
              "      <td>1</td>\n",
              "      <td>0</td>\n",
              "      <td>14</td>\n",
              "      <td>0</td>\n",
              "      <td>1</td>\n",
              "      <td>4</td>\n",
              "      <td>1</td>\n",
              "      <td>0</td>\n",
              "      <td>1</td>\n",
              "      <td>0</td>\n",
              "      <td>1</td>\n",
              "      <td>5</td>\n",
              "      <td>2</td>\n",
              "      <td>0</td>\n",
              "    </tr>\n",
              "    <tr>\n",
              "      <th>41796</th>\n",
              "      <td>जलते हुए आदमी की ये तस्वीरें आपको डब्ल्यूटीएफ ...</td>\n",
              "      <td>1</td>\n",
              "      <td>0</td>\n",
              "      <td>14</td>\n",
              "      <td>0</td>\n",
              "      <td>0</td>\n",
              "      <td>7</td>\n",
              "      <td>0</td>\n",
              "      <td>0</td>\n",
              "      <td>1</td>\n",
              "      <td>0</td>\n",
              "      <td>1</td>\n",
              "      <td>3</td>\n",
              "      <td>3</td>\n",
              "      <td>0</td>\n",
              "    </tr>\n",
              "    <tr>\n",
              "      <th>41797</th>\n",
              "      <td>मस्तिष्क रक्त के थक्के के साथ अस्पताल में रूपा...</td>\n",
              "      <td>0</td>\n",
              "      <td>0</td>\n",
              "      <td>12</td>\n",
              "      <td>0</td>\n",
              "      <td>0</td>\n",
              "      <td>4</td>\n",
              "      <td>0</td>\n",
              "      <td>2</td>\n",
              "      <td>0</td>\n",
              "      <td>0</td>\n",
              "      <td>2</td>\n",
              "      <td>6</td>\n",
              "      <td>0</td>\n",
              "      <td>1</td>\n",
              "    </tr>\n",
              "    <tr>\n",
              "      <th>41798</th>\n",
              "      <td>सबसे बड़ी आसानी के साथ। । ।\\n</td>\n",
              "      <td>0</td>\n",
              "      <td>0</td>\n",
              "      <td>7</td>\n",
              "      <td>0</td>\n",
              "      <td>0</td>\n",
              "      <td>2</td>\n",
              "      <td>0</td>\n",
              "      <td>2</td>\n",
              "      <td>0</td>\n",
              "      <td>0</td>\n",
              "      <td>2</td>\n",
              "      <td>1</td>\n",
              "      <td>0</td>\n",
              "      <td>1</td>\n",
              "    </tr>\n",
              "    <tr>\n",
              "      <th>41799</th>\n",
              "      <td>द वीक के सबसे फेब और द्राब सेलिब्रिटी लुक\\n</td>\n",
              "      <td>1</td>\n",
              "      <td>0</td>\n",
              "      <td>9</td>\n",
              "      <td>0</td>\n",
              "      <td>0</td>\n",
              "      <td>4</td>\n",
              "      <td>0</td>\n",
              "      <td>0</td>\n",
              "      <td>1</td>\n",
              "      <td>0</td>\n",
              "      <td>1</td>\n",
              "      <td>4</td>\n",
              "      <td>0</td>\n",
              "      <td>2</td>\n",
              "    </tr>\n",
              "  </tbody>\n",
              "</table>\n",
              "<p>41800 rows × 15 columns</p>\n",
              "</div>"
            ],
            "text/plain": [
              "                                                sentence  ...  num_adj\n",
              "0      यह एक जबड़ा छोड़ने वाली डिलीवरी है! 50-टन व्हे...  ...        5\n",
              "1      जस्टिन बीबर नई तस्वीरों की बाढ़ के साथ अपने इं...  ...        2\n",
              "2      रॉल्फ हैरिस कुछ ही महीनों में मुक्त हो सकता है...  ...        3\n",
              "3      बीएमसी चुनाव: बीजेपी, शिवसेना ने मतदाताओं को ग...  ...        1\n",
              "4            चीनी पुलिस ने 100 किलोग्राम मेथ जब्त किया\\n  ...        2\n",
              "...                                                  ...  ...      ...\n",
              "41795  ईएसपीएन ने &#39;स्पोर्ट्स बबल&#39; के लीडिंग ए...  ...        0\n",
              "41796  जलते हुए आदमी की ये तस्वीरें आपको डब्ल्यूटीएफ ...  ...        0\n",
              "41797  मस्तिष्क रक्त के थक्के के साथ अस्पताल में रूपा...  ...        1\n",
              "41798                      सबसे बड़ी आसानी के साथ। । ।\\n  ...        1\n",
              "41799        द वीक के सबसे फेब और द्राब सेलिब्रिटी लुक\\n  ...        2\n",
              "\n",
              "[41800 rows x 15 columns]"
            ]
          },
          "metadata": {
            "tags": []
          },
          "execution_count": 46
        }
      ]
    },
    {
      "cell_type": "code",
      "metadata": {
        "id": "TEX2rV9F7Bqw"
      },
      "source": [
        "X = df_temp.drop(['sentence','label'],axis=1)\n",
        "y = df_temp['label']"
      ],
      "execution_count": 47,
      "outputs": []
    },
    {
      "cell_type": "markdown",
      "metadata": {
        "id": "wJFpgHWnP5P9"
      },
      "source": [
        "## Splitting the training dataset into suitable ratio for training and verification(testing)"
      ]
    },
    {
      "cell_type": "code",
      "metadata": {
        "id": "3momC48o77KQ"
      },
      "source": [
        "X_train, X_test, y_train, y_test = train_test_split(X, y, test_size = 0.20)\n"
      ],
      "execution_count": 48,
      "outputs": []
    },
    {
      "cell_type": "markdown",
      "metadata": {
        "id": "sBJ-X62fQSlj"
      },
      "source": [
        "## Scaling the data appropriately to benefit the classification process "
      ]
    },
    {
      "cell_type": "code",
      "metadata": {
        "colab": {
          "base_uri": "https://localhost:8080/",
          "height": 402
        },
        "id": "xKgus-F69PUo",
        "outputId": "5e1fb4a7-93f5-49bf-e546-d32e07dc3533"
      },
      "source": [
        "cols = X_train.columns\n",
        "\n",
        "scaler = StandardScaler()\n",
        "\n",
        "X_train = scaler.fit_transform(X_train)\n",
        "\n",
        "X_test = scaler.transform(X_test)\n",
        "X_train = pd.DataFrame(X_train, columns=[cols])\n",
        "X_test = pd.DataFrame(X_test, columns=[cols])\n",
        "X_train.describe()\n"
      ],
      "execution_count": 49,
      "outputs": [
        {
          "output_type": "execute_result",
          "data": {
            "text/html": [
              "<div>\n",
              "<style scoped>\n",
              "    .dataframe tbody tr th:only-of-type {\n",
              "        vertical-align: middle;\n",
              "    }\n",
              "\n",
              "    .dataframe tbody tr th {\n",
              "        vertical-align: top;\n",
              "    }\n",
              "\n",
              "    .dataframe thead tr th {\n",
              "        text-align: left;\n",
              "    }\n",
              "</style>\n",
              "<table border=\"1\" class=\"dataframe\">\n",
              "  <thead>\n",
              "    <tr>\n",
              "      <th></th>\n",
              "      <th>is_que</th>\n",
              "      <th>num_tokens</th>\n",
              "      <th>is_exclam</th>\n",
              "      <th>is_quote</th>\n",
              "      <th>num_stopwords</th>\n",
              "      <th>has_num</th>\n",
              "      <th>PER_count</th>\n",
              "      <th>ORG_count</th>\n",
              "      <th>LOC_count</th>\n",
              "      <th>total_NER</th>\n",
              "      <th>num_noun</th>\n",
              "      <th>num_verb</th>\n",
              "      <th>num_adj</th>\n",
              "    </tr>\n",
              "  </thead>\n",
              "  <tbody>\n",
              "    <tr>\n",
              "      <th>count</th>\n",
              "      <td>3.344000e+04</td>\n",
              "      <td>3.344000e+04</td>\n",
              "      <td>3.344000e+04</td>\n",
              "      <td>3.344000e+04</td>\n",
              "      <td>3.344000e+04</td>\n",
              "      <td>3.344000e+04</td>\n",
              "      <td>3.344000e+04</td>\n",
              "      <td>3.344000e+04</td>\n",
              "      <td>3.344000e+04</td>\n",
              "      <td>3.344000e+04</td>\n",
              "      <td>3.344000e+04</td>\n",
              "      <td>3.344000e+04</td>\n",
              "      <td>3.344000e+04</td>\n",
              "    </tr>\n",
              "    <tr>\n",
              "      <th>mean</th>\n",
              "      <td>3.556233e-16</td>\n",
              "      <td>2.339370e-16</td>\n",
              "      <td>-2.717151e-15</td>\n",
              "      <td>2.367760e-15</td>\n",
              "      <td>-5.098460e-16</td>\n",
              "      <td>-7.458846e-16</td>\n",
              "      <td>1.985785e-16</td>\n",
              "      <td>-1.922890e-15</td>\n",
              "      <td>1.146186e-15</td>\n",
              "      <td>-5.155299e-16</td>\n",
              "      <td>5.579917e-16</td>\n",
              "      <td>5.159350e-17</td>\n",
              "      <td>-1.365508e-15</td>\n",
              "    </tr>\n",
              "    <tr>\n",
              "      <th>std</th>\n",
              "      <td>1.000015e+00</td>\n",
              "      <td>1.000015e+00</td>\n",
              "      <td>1.000015e+00</td>\n",
              "      <td>1.000015e+00</td>\n",
              "      <td>1.000015e+00</td>\n",
              "      <td>1.000015e+00</td>\n",
              "      <td>1.000015e+00</td>\n",
              "      <td>1.000015e+00</td>\n",
              "      <td>1.000015e+00</td>\n",
              "      <td>1.000015e+00</td>\n",
              "      <td>1.000015e+00</td>\n",
              "      <td>1.000015e+00</td>\n",
              "      <td>1.000015e+00</td>\n",
              "    </tr>\n",
              "    <tr>\n",
              "      <th>min</th>\n",
              "      <td>-2.429784e-01</td>\n",
              "      <td>-1.887161e+00</td>\n",
              "      <td>-1.373019e-01</td>\n",
              "      <td>-3.407604e-01</td>\n",
              "      <td>-1.496274e+00</td>\n",
              "      <td>-6.360117e-01</td>\n",
              "      <td>-7.835690e-01</td>\n",
              "      <td>-4.034836e-01</td>\n",
              "      <td>-7.136049e-01</td>\n",
              "      <td>-5.988270e-01</td>\n",
              "      <td>-1.942857e+00</td>\n",
              "      <td>-1.173048e+00</td>\n",
              "      <td>-1.049352e+00</td>\n",
              "    </tr>\n",
              "    <tr>\n",
              "      <th>25%</th>\n",
              "      <td>-2.429784e-01</td>\n",
              "      <td>-5.395113e-01</td>\n",
              "      <td>-1.373019e-01</td>\n",
              "      <td>-3.407604e-01</td>\n",
              "      <td>-4.972694e-01</td>\n",
              "      <td>-6.360117e-01</td>\n",
              "      <td>-7.835690e-01</td>\n",
              "      <td>-4.034836e-01</td>\n",
              "      <td>-7.136049e-01</td>\n",
              "      <td>-5.988270e-01</td>\n",
              "      <td>-5.812060e-01</td>\n",
              "      <td>-2.753086e-01</td>\n",
              "      <td>-1.049352e+00</td>\n",
              "    </tr>\n",
              "    <tr>\n",
              "      <th>50%</th>\n",
              "      <td>-2.429784e-01</td>\n",
              "      <td>-1.352163e-01</td>\n",
              "      <td>-1.373019e-01</td>\n",
              "      <td>-3.407604e-01</td>\n",
              "      <td>-2.475181e-01</td>\n",
              "      <td>-6.360117e-01</td>\n",
              "      <td>-7.835690e-01</td>\n",
              "      <td>-4.034836e-01</td>\n",
              "      <td>-7.136049e-01</td>\n",
              "      <td>-5.988270e-01</td>\n",
              "      <td>-2.407932e-01</td>\n",
              "      <td>-2.753086e-01</td>\n",
              "      <td>-3.252279e-01</td>\n",
              "    </tr>\n",
              "    <tr>\n",
              "      <th>75%</th>\n",
              "      <td>-2.429784e-01</td>\n",
              "      <td>2.690786e-01</td>\n",
              "      <td>-1.373019e-01</td>\n",
              "      <td>-3.407604e-01</td>\n",
              "      <td>5.017356e-01</td>\n",
              "      <td>1.572298e+00</td>\n",
              "      <td>3.511334e-01</td>\n",
              "      <td>-4.034836e-01</td>\n",
              "      <td>9.616933e-01</td>\n",
              "      <td>1.050796e+00</td>\n",
              "      <td>4.400324e-01</td>\n",
              "      <td>6.224310e-01</td>\n",
              "      <td>3.988963e-01</td>\n",
              "    </tr>\n",
              "    <tr>\n",
              "      <th>max</th>\n",
              "      <td>3.222534e+01</td>\n",
              "      <td>3.786851e+01</td>\n",
              "      <td>2.987169e+01</td>\n",
              "      <td>2.934614e+00</td>\n",
              "      <td>3.721517e+01</td>\n",
              "      <td>1.572298e+00</td>\n",
              "      <td>7.159348e+00</td>\n",
              "      <td>9.417571e+00</td>\n",
              "      <td>7.662886e+00</td>\n",
              "      <td>9.298912e+00</td>\n",
              "      <td>3.754503e+01</td>\n",
              "      <td>2.575914e+01</td>\n",
              "      <td>3.008799e+01</td>\n",
              "    </tr>\n",
              "  </tbody>\n",
              "</table>\n",
              "</div>"
            ],
            "text/plain": [
              "             is_que    num_tokens  ...      num_verb       num_adj\n",
              "count  3.344000e+04  3.344000e+04  ...  3.344000e+04  3.344000e+04\n",
              "mean   3.556233e-16  2.339370e-16  ...  5.159350e-17 -1.365508e-15\n",
              "std    1.000015e+00  1.000015e+00  ...  1.000015e+00  1.000015e+00\n",
              "min   -2.429784e-01 -1.887161e+00  ... -1.173048e+00 -1.049352e+00\n",
              "25%   -2.429784e-01 -5.395113e-01  ... -2.753086e-01 -1.049352e+00\n",
              "50%   -2.429784e-01 -1.352163e-01  ... -2.753086e-01 -3.252279e-01\n",
              "75%   -2.429784e-01  2.690786e-01  ...  6.224310e-01  3.988963e-01\n",
              "max    3.222534e+01  3.786851e+01  ...  2.575914e+01  3.008799e+01\n",
              "\n",
              "[8 rows x 13 columns]"
            ]
          },
          "metadata": {
            "tags": []
          },
          "execution_count": 49
        }
      ]
    },
    {
      "cell_type": "markdown",
      "metadata": {
        "id": "OloQDBugQdOe"
      },
      "source": [
        "# **USING SVM TO PERFORM BINARY CLASSIFICATION**\n",
        "\n"
      ]
    },
    {
      "cell_type": "code",
      "metadata": {
        "colab": {
          "base_uri": "https://localhost:8080/"
        },
        "id": "xGbPyHN892uP",
        "outputId": "2db80578-8a3e-416f-abc7-228a44c09c83"
      },
      "source": [
        "# instantiate classifier with default hyperparameters\n",
        "svc=SVC()\n",
        "\n",
        "svc=SVC(C=100.0) \n",
        "\n",
        "\n",
        "# fit classifier to training set\n",
        "svc.fit(X_train,y_train)\n",
        "\n",
        "\n",
        "# make predictions on test set\n",
        "y_pred=svc.predict(X_test)\n",
        "\n",
        "\n",
        "# compute and print accuracy score\n",
        "print('Model accuracy score with rbf kernel and C=100.0 : {0:0.4f}'. format(accuracy_score(y_test, y_pred)))\n",
        "print('Precision Score : %.4f '%precision_score(y_test,y_pred, average=\"macro\"))\n",
        "print('Recall Score : %.4f '%recall_score(y_test, y_pred, average=\"macro\"))\n",
        "print('F1 Score : %.4f '%f1_score(y_test, y_pred, average=\"macro\"))\n"
      ],
      "execution_count": 50,
      "outputs": [
        {
          "output_type": "stream",
          "text": [
            "Model accuracy score with rbf kernel and C=100.0 : 0.6998\n",
            "Precision Score : 0.7128 \n",
            "Recall Score : 0.6731 \n",
            "F1 Score : 0.6722 \n"
          ],
          "name": "stdout"
        }
      ]
    },
    {
      "cell_type": "markdown",
      "metadata": {
        "id": "pXbGPFlqlBM_"
      },
      "source": [
        "# **USING LOGISTIC REGRESSION TO PERFORM BINARY CLASSIFICATION**"
      ]
    },
    {
      "cell_type": "code",
      "metadata": {
        "id": "tx2g39kt944o",
        "colab": {
          "base_uri": "https://localhost:8080/"
        },
        "outputId": "0475c668-dbd3-4e3e-b249-158273568d26"
      },
      "source": [
        "log_res=LogisticRegression()\n",
        "log_res.fit(X_train,y_train)\n",
        "\n",
        "y_pred=log_res.predict(X_test)\n",
        "\n",
        "print('Logistic Regression Accuracy Score : %.4f'%accuracy_score(y_test,y_pred))\n",
        "print(\"Logistic Regression Precision Score : %.4f \"%precision_score(y_test,y_pred))\n",
        "print('Logistic Regression Recall Score : %.4f '%recall_score(y_test, y_pred, average=\"macro\"))\n",
        "print('Logistic Regression F1 Score : %.4f '%f1_score(y_test, y_pred, average=\"macro\"))"
      ],
      "execution_count": 51,
      "outputs": [
        {
          "output_type": "stream",
          "text": [
            "Logistic Regression Accuracy Score : 0.6853\n",
            "Logistic Regression Precision Score : 0.6781 \n",
            "Logistic Regression Recall Score : 0.6662 \n",
            "Logistic Regression F1 Score : 0.6674 \n"
          ],
          "name": "stdout"
        }
      ]
    },
    {
      "cell_type": "markdown",
      "metadata": {
        "id": "NiobJGJblG1I"
      },
      "source": [
        "# **USING XGBOOST TO PERFORM BINARY CLASSIFICATION**"
      ]
    },
    {
      "cell_type": "code",
      "metadata": {
        "id": "q-jmMqlzjVaE",
        "colab": {
          "base_uri": "https://localhost:8080/"
        },
        "outputId": "37a96454-5ac9-4f96-dd37-d6e039242937"
      },
      "source": [
        "xg_boost=XGBClassifier()\n",
        "xg_boost.fit(X_train,y_train)\n",
        "\n",
        "y_pred=xg_boost.predict(X_test)\n",
        "\n",
        "print(\"XGBoost Accuracy Score: %.4f \"%accuracy_score(y_test,y_pred))\n",
        "print(\"XGBoost Precision Score: %.4f \"%precision_score(y_test,y_pred))\n",
        "print('XGBoost Recall Score : %.4f '%recall_score(y_test, y_pred, average=\"macro\"))\n",
        "print('XGBoost F1 Score : %.4f '%f1_score(y_test, y_pred, average=\"macro\"))"
      ],
      "execution_count": 52,
      "outputs": [
        {
          "output_type": "stream",
          "text": [
            "XGBoost Accuracy Score: 0.6981 \n",
            "XGBoost Precision Score: 0.7152 \n",
            "XGBoost Recall Score : 0.6755 \n",
            "XGBoost F1 Score : 0.6762 \n"
          ],
          "name": "stdout"
        }
      ]
    }
  ]
}