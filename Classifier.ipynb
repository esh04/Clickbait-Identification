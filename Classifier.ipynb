{
  "nbformat": 4,
  "nbformat_minor": 0,
  "metadata": {
    "colab": {
      "name": "Classifier.ipynb",
      "provenance": [],
      "authorship_tag": "ABX9TyPBsefVFi1HIszGfqNHFk3o",
      "include_colab_link": true
    },
    "kernelspec": {
      "name": "python3",
      "display_name": "Python 3"
    },
    "language_info": {
      "name": "python"
    }
  },
  "cells": [
    {
      "cell_type": "markdown",
      "metadata": {
        "id": "view-in-github",
        "colab_type": "text"
      },
      "source": [
        "<a href=\"https://colab.research.google.com/github/esh04/Clickbait-Identification/blob/Esh/Classifier.ipynb\" target=\"_parent\"><img src=\"https://colab.research.google.com/assets/colab-badge.svg\" alt=\"Open In Colab\"/></a>"
      ]
    },
    {
      "cell_type": "markdown",
      "metadata": {
        "id": "JbsnlSmbPl_p"
      },
      "source": [
        "\n",
        "\n",
        "---\n",
        "\n",
        "\n",
        "# **WE PERFORM BINARY CLASSIFICATION BASED ON THE DATA AND PARAMETERS WE HAVE GENERATED AND PREDICT IN THE TEST DATASET**\n",
        "\n",
        "\n",
        "---\n",
        "\n"
      ]
    },
    {
      "cell_type": "markdown",
      "metadata": {
        "id": "xT0rPDVWPycl"
      },
      "source": [
        "## Importing the parameters generated for prediction purposes"
      ]
    },
    {
      "cell_type": "code",
      "metadata": {
        "colab": {
          "base_uri": "https://localhost:8080/",
          "height": 419
        },
        "id": "xiroNRZt5UUg",
        "outputId": "25e47a60-8cb4-4427-cf0a-235ce24d94fd"
      },
      "source": [
        "import pandas as pd\n",
        "path = \"/content/final_parameters.csv\"\n",
        "df = pd.read_csv(path)\n",
        "df.drop(['num_tokens','ORG_count','total_NER'], inplace=True, axis=1)\n",
        "df"
      ],
      "execution_count": null,
      "outputs": [
        {
          "output_type": "execute_result",
          "data": {
            "text/html": [
              "<div>\n",
              "<style scoped>\n",
              "    .dataframe tbody tr th:only-of-type {\n",
              "        vertical-align: middle;\n",
              "    }\n",
              "\n",
              "    .dataframe tbody tr th {\n",
              "        vertical-align: top;\n",
              "    }\n",
              "\n",
              "    .dataframe thead th {\n",
              "        text-align: right;\n",
              "    }\n",
              "</style>\n",
              "<table border=\"1\" class=\"dataframe\">\n",
              "  <thead>\n",
              "    <tr style=\"text-align: right;\">\n",
              "      <th></th>\n",
              "      <th>sentence</th>\n",
              "      <th>label</th>\n",
              "      <th>is_que</th>\n",
              "      <th>is_exclam</th>\n",
              "      <th>is_quote</th>\n",
              "      <th>num_stopwords</th>\n",
              "      <th>has_num</th>\n",
              "      <th>PER_count</th>\n",
              "      <th>LOC_count</th>\n",
              "      <th>num_noun</th>\n",
              "      <th>num_verb</th>\n",
              "      <th>num_adj</th>\n",
              "    </tr>\n",
              "  </thead>\n",
              "  <tbody>\n",
              "    <tr>\n",
              "      <th>0</th>\n",
              "      <td>यह एक जबड़ा छोड़ने वाली डिलीवरी है! 50-टन व्हे...</td>\n",
              "      <td>0</td>\n",
              "      <td>0</td>\n",
              "      <td>1</td>\n",
              "      <td>0</td>\n",
              "      <td>19</td>\n",
              "      <td>1</td>\n",
              "      <td>0</td>\n",
              "      <td>1</td>\n",
              "      <td>8</td>\n",
              "      <td>3</td>\n",
              "      <td>5</td>\n",
              "    </tr>\n",
              "    <tr>\n",
              "      <th>1</th>\n",
              "      <td>जस्टिन बीबर नई तस्वीरों की बाढ़ के साथ अपने इं...</td>\n",
              "      <td>1</td>\n",
              "      <td>0</td>\n",
              "      <td>0</td>\n",
              "      <td>0</td>\n",
              "      <td>5</td>\n",
              "      <td>0</td>\n",
              "      <td>2</td>\n",
              "      <td>0</td>\n",
              "      <td>6</td>\n",
              "      <td>1</td>\n",
              "      <td>2</td>\n",
              "    </tr>\n",
              "    <tr>\n",
              "      <th>2</th>\n",
              "      <td>रॉल्फ हैरिस कुछ ही महीनों में मुक्त हो सकता है...</td>\n",
              "      <td>0</td>\n",
              "      <td>0</td>\n",
              "      <td>0</td>\n",
              "      <td>0</td>\n",
              "      <td>13</td>\n",
              "      <td>0</td>\n",
              "      <td>2</td>\n",
              "      <td>0</td>\n",
              "      <td>5</td>\n",
              "      <td>2</td>\n",
              "      <td>3</td>\n",
              "    </tr>\n",
              "    <tr>\n",
              "      <th>3</th>\n",
              "      <td>बीएमसी चुनाव: बीजेपी, शिवसेना ने मतदाताओं को ग...</td>\n",
              "      <td>0</td>\n",
              "      <td>0</td>\n",
              "      <td>0</td>\n",
              "      <td>0</td>\n",
              "      <td>5</td>\n",
              "      <td>0</td>\n",
              "      <td>0</td>\n",
              "      <td>0</td>\n",
              "      <td>5</td>\n",
              "      <td>2</td>\n",
              "      <td>1</td>\n",
              "    </tr>\n",
              "    <tr>\n",
              "      <th>4</th>\n",
              "      <td>चीनी पुलिस ने 100 किलोग्राम मेथ जब्त किया\\n</td>\n",
              "      <td>0</td>\n",
              "      <td>0</td>\n",
              "      <td>0</td>\n",
              "      <td>0</td>\n",
              "      <td>2</td>\n",
              "      <td>1</td>\n",
              "      <td>0</td>\n",
              "      <td>0</td>\n",
              "      <td>4</td>\n",
              "      <td>1</td>\n",
              "      <td>2</td>\n",
              "    </tr>\n",
              "    <tr>\n",
              "      <th>...</th>\n",
              "      <td>...</td>\n",
              "      <td>...</td>\n",
              "      <td>...</td>\n",
              "      <td>...</td>\n",
              "      <td>...</td>\n",
              "      <td>...</td>\n",
              "      <td>...</td>\n",
              "      <td>...</td>\n",
              "      <td>...</td>\n",
              "      <td>...</td>\n",
              "      <td>...</td>\n",
              "      <td>...</td>\n",
              "    </tr>\n",
              "    <tr>\n",
              "      <th>41795</th>\n",
              "      <td>ईएसपीएन ने &amp;#39;स्पोर्ट्स बबल&amp;#39; के लीडिंग ए...</td>\n",
              "      <td>1</td>\n",
              "      <td>0</td>\n",
              "      <td>0</td>\n",
              "      <td>1</td>\n",
              "      <td>4</td>\n",
              "      <td>1</td>\n",
              "      <td>0</td>\n",
              "      <td>0</td>\n",
              "      <td>5</td>\n",
              "      <td>2</td>\n",
              "      <td>0</td>\n",
              "    </tr>\n",
              "    <tr>\n",
              "      <th>41796</th>\n",
              "      <td>जलते हुए आदमी की ये तस्वीरें आपको डब्ल्यूटीएफ ...</td>\n",
              "      <td>1</td>\n",
              "      <td>0</td>\n",
              "      <td>0</td>\n",
              "      <td>0</td>\n",
              "      <td>7</td>\n",
              "      <td>0</td>\n",
              "      <td>0</td>\n",
              "      <td>0</td>\n",
              "      <td>3</td>\n",
              "      <td>3</td>\n",
              "      <td>0</td>\n",
              "    </tr>\n",
              "    <tr>\n",
              "      <th>41797</th>\n",
              "      <td>मस्तिष्क रक्त के थक्के के साथ अस्पताल में रूपा...</td>\n",
              "      <td>0</td>\n",
              "      <td>0</td>\n",
              "      <td>0</td>\n",
              "      <td>0</td>\n",
              "      <td>4</td>\n",
              "      <td>0</td>\n",
              "      <td>2</td>\n",
              "      <td>0</td>\n",
              "      <td>6</td>\n",
              "      <td>0</td>\n",
              "      <td>1</td>\n",
              "    </tr>\n",
              "    <tr>\n",
              "      <th>41798</th>\n",
              "      <td>सबसे बड़ी आसानी के साथ। । ।\\n</td>\n",
              "      <td>0</td>\n",
              "      <td>0</td>\n",
              "      <td>0</td>\n",
              "      <td>0</td>\n",
              "      <td>2</td>\n",
              "      <td>0</td>\n",
              "      <td>2</td>\n",
              "      <td>0</td>\n",
              "      <td>1</td>\n",
              "      <td>0</td>\n",
              "      <td>1</td>\n",
              "    </tr>\n",
              "    <tr>\n",
              "      <th>41799</th>\n",
              "      <td>द वीक के सबसे फेब और द्राब सेलिब्रिटी लुक\\n</td>\n",
              "      <td>1</td>\n",
              "      <td>0</td>\n",
              "      <td>0</td>\n",
              "      <td>0</td>\n",
              "      <td>4</td>\n",
              "      <td>0</td>\n",
              "      <td>0</td>\n",
              "      <td>0</td>\n",
              "      <td>4</td>\n",
              "      <td>0</td>\n",
              "      <td>2</td>\n",
              "    </tr>\n",
              "  </tbody>\n",
              "</table>\n",
              "<p>41800 rows × 12 columns</p>\n",
              "</div>"
            ],
            "text/plain": [
              "                                                sentence  ...  num_adj\n",
              "0      यह एक जबड़ा छोड़ने वाली डिलीवरी है! 50-टन व्हे...  ...        5\n",
              "1      जस्टिन बीबर नई तस्वीरों की बाढ़ के साथ अपने इं...  ...        2\n",
              "2      रॉल्फ हैरिस कुछ ही महीनों में मुक्त हो सकता है...  ...        3\n",
              "3      बीएमसी चुनाव: बीजेपी, शिवसेना ने मतदाताओं को ग...  ...        1\n",
              "4            चीनी पुलिस ने 100 किलोग्राम मेथ जब्त किया\\n  ...        2\n",
              "...                                                  ...  ...      ...\n",
              "41795  ईएसपीएन ने &#39;स्पोर्ट्स बबल&#39; के लीडिंग ए...  ...        0\n",
              "41796  जलते हुए आदमी की ये तस्वीरें आपको डब्ल्यूटीएफ ...  ...        0\n",
              "41797  मस्तिष्क रक्त के थक्के के साथ अस्पताल में रूपा...  ...        1\n",
              "41798                      सबसे बड़ी आसानी के साथ। । ।\\n  ...        1\n",
              "41799        द वीक के सबसे फेब और द्राब सेलिब्रिटी लुक\\n  ...        2\n",
              "\n",
              "[41800 rows x 12 columns]"
            ]
          },
          "metadata": {
            "tags": []
          },
          "execution_count": 8
        }
      ]
    },
    {
      "cell_type": "code",
      "metadata": {
        "id": "TEX2rV9F7Bqw"
      },
      "source": [
        "X = df.drop(['sentence','label'],axis=1)\n",
        "y = df['label']"
      ],
      "execution_count": null,
      "outputs": []
    },
    {
      "cell_type": "markdown",
      "metadata": {
        "id": "wJFpgHWnP5P9"
      },
      "source": [
        "## Splitting the training dataset into suitable ratio for training and verification(testing)"
      ]
    },
    {
      "cell_type": "code",
      "metadata": {
        "id": "3momC48o77KQ"
      },
      "source": [
        "from sklearn.model_selection import train_test_split\n",
        "X_train, X_test, y_train, y_test = train_test_split(X, y, test_size = 0.20)\n"
      ],
      "execution_count": null,
      "outputs": []
    },
    {
      "cell_type": "markdown",
      "metadata": {
        "id": "sBJ-X62fQSlj"
      },
      "source": [
        "## Scaling the data appropriately to benefit the classification process "
      ]
    },
    {
      "cell_type": "code",
      "metadata": {
        "colab": {
          "base_uri": "https://localhost:8080/",
          "height": 297
        },
        "id": "xKgus-F69PUo",
        "outputId": "90e6437e-bf72-41f4-8e28-df2d9cbbc1fa"
      },
      "source": [
        "cols = X_train.columns\n",
        "from sklearn.preprocessing import StandardScaler\n",
        "\n",
        "scaler = StandardScaler()\n",
        "\n",
        "X_train = scaler.fit_transform(X_train)\n",
        "\n",
        "X_test = scaler.transform(X_test)\n",
        "X_train = pd.DataFrame(X_train, columns=[cols])\n",
        "X_test = pd.DataFrame(X_test, columns=[cols])\n",
        "X_train.describe()\n"
      ],
      "execution_count": null,
      "outputs": [
        {
          "output_type": "execute_result",
          "data": {
            "text/html": [
              "<div>\n",
              "<style scoped>\n",
              "    .dataframe tbody tr th:only-of-type {\n",
              "        vertical-align: middle;\n",
              "    }\n",
              "\n",
              "    .dataframe tbody tr th {\n",
              "        vertical-align: top;\n",
              "    }\n",
              "\n",
              "    .dataframe thead tr th {\n",
              "        text-align: left;\n",
              "    }\n",
              "</style>\n",
              "<table border=\"1\" class=\"dataframe\">\n",
              "  <thead>\n",
              "    <tr>\n",
              "      <th></th>\n",
              "      <th>is_que</th>\n",
              "      <th>is_exclam</th>\n",
              "      <th>is_quote</th>\n",
              "      <th>num_stopwords</th>\n",
              "      <th>has_num</th>\n",
              "      <th>PER_count</th>\n",
              "      <th>LOC_count</th>\n",
              "      <th>num_noun</th>\n",
              "      <th>num_verb</th>\n",
              "      <th>num_adj</th>\n",
              "    </tr>\n",
              "  </thead>\n",
              "  <tbody>\n",
              "    <tr>\n",
              "      <th>count</th>\n",
              "      <td>3.344000e+04</td>\n",
              "      <td>3.344000e+04</td>\n",
              "      <td>3.344000e+04</td>\n",
              "      <td>3.344000e+04</td>\n",
              "      <td>3.344000e+04</td>\n",
              "      <td>3.344000e+04</td>\n",
              "      <td>3.344000e+04</td>\n",
              "      <td>3.344000e+04</td>\n",
              "      <td>3.344000e+04</td>\n",
              "      <td>3.344000e+04</td>\n",
              "    </tr>\n",
              "    <tr>\n",
              "      <th>mean</th>\n",
              "      <td>1.367661e-15</td>\n",
              "      <td>3.481065e-15</td>\n",
              "      <td>-6.300881e-16</td>\n",
              "      <td>-2.038906e-16</td>\n",
              "      <td>2.724030e-16</td>\n",
              "      <td>-9.736231e-16</td>\n",
              "      <td>5.194077e-16</td>\n",
              "      <td>-1.345282e-17</td>\n",
              "      <td>-5.435511e-16</td>\n",
              "      <td>-5.308221e-16</td>\n",
              "    </tr>\n",
              "    <tr>\n",
              "      <th>std</th>\n",
              "      <td>1.000015e+00</td>\n",
              "      <td>1.000015e+00</td>\n",
              "      <td>1.000015e+00</td>\n",
              "      <td>1.000015e+00</td>\n",
              "      <td>1.000015e+00</td>\n",
              "      <td>1.000015e+00</td>\n",
              "      <td>1.000015e+00</td>\n",
              "      <td>1.000015e+00</td>\n",
              "      <td>1.000015e+00</td>\n",
              "      <td>1.000015e+00</td>\n",
              "    </tr>\n",
              "    <tr>\n",
              "      <th>min</th>\n",
              "      <td>-2.436315e-01</td>\n",
              "      <td>-1.386887e-01</td>\n",
              "      <td>-3.392826e-01</td>\n",
              "      <td>-1.502703e+00</td>\n",
              "      <td>-6.361508e-01</td>\n",
              "      <td>-7.816360e-01</td>\n",
              "      <td>-7.131512e-01</td>\n",
              "      <td>-1.946064e+00</td>\n",
              "      <td>-1.169751e+00</td>\n",
              "      <td>-1.045975e+00</td>\n",
              "    </tr>\n",
              "    <tr>\n",
              "      <th>25%</th>\n",
              "      <td>-2.436315e-01</td>\n",
              "      <td>-1.386887e-01</td>\n",
              "      <td>-3.392826e-01</td>\n",
              "      <td>-4.999714e-01</td>\n",
              "      <td>-6.361508e-01</td>\n",
              "      <td>-7.816360e-01</td>\n",
              "      <td>-7.131512e-01</td>\n",
              "      <td>-5.841490e-01</td>\n",
              "      <td>-2.717398e-01</td>\n",
              "      <td>-1.045975e+00</td>\n",
              "    </tr>\n",
              "    <tr>\n",
              "      <th>50%</th>\n",
              "      <td>-2.436315e-01</td>\n",
              "      <td>-1.386887e-01</td>\n",
              "      <td>-3.392826e-01</td>\n",
              "      <td>-2.492885e-01</td>\n",
              "      <td>-6.361508e-01</td>\n",
              "      <td>-7.816360e-01</td>\n",
              "      <td>-7.131512e-01</td>\n",
              "      <td>-2.436703e-01</td>\n",
              "      <td>-2.717398e-01</td>\n",
              "      <td>-3.223446e-01</td>\n",
              "    </tr>\n",
              "    <tr>\n",
              "      <th>75%</th>\n",
              "      <td>-2.436315e-01</td>\n",
              "      <td>-1.386887e-01</td>\n",
              "      <td>-3.392826e-01</td>\n",
              "      <td>5.027601e-01</td>\n",
              "      <td>1.571954e+00</td>\n",
              "      <td>3.526249e-01</td>\n",
              "      <td>9.642615e-01</td>\n",
              "      <td>4.372870e-01</td>\n",
              "      <td>6.262718e-01</td>\n",
              "      <td>4.012861e-01</td>\n",
              "    </tr>\n",
              "    <tr>\n",
              "      <th>max</th>\n",
              "      <td>3.210193e+01</td>\n",
              "      <td>3.037282e+01</td>\n",
              "      <td>2.947395e+00</td>\n",
              "      <td>3.735314e+01</td>\n",
              "      <td>1.571954e+00</td>\n",
              "      <td>7.158190e+00</td>\n",
              "      <td>7.673913e+00</td>\n",
              "      <td>3.754946e+01</td>\n",
              "      <td>2.577060e+01</td>\n",
              "      <td>3.007014e+01</td>\n",
              "    </tr>\n",
              "  </tbody>\n",
              "</table>\n",
              "</div>"
            ],
            "text/plain": [
              "             is_que     is_exclam  ...      num_verb       num_adj\n",
              "count  3.344000e+04  3.344000e+04  ...  3.344000e+04  3.344000e+04\n",
              "mean   1.367661e-15  3.481065e-15  ... -5.435511e-16 -5.308221e-16\n",
              "std    1.000015e+00  1.000015e+00  ...  1.000015e+00  1.000015e+00\n",
              "min   -2.436315e-01 -1.386887e-01  ... -1.169751e+00 -1.045975e+00\n",
              "25%   -2.436315e-01 -1.386887e-01  ... -2.717398e-01 -1.045975e+00\n",
              "50%   -2.436315e-01 -1.386887e-01  ... -2.717398e-01 -3.223446e-01\n",
              "75%   -2.436315e-01 -1.386887e-01  ...  6.262718e-01  4.012861e-01\n",
              "max    3.210193e+01  3.037282e+01  ...  2.577060e+01  3.007014e+01\n",
              "\n",
              "[8 rows x 10 columns]"
            ]
          },
          "metadata": {
            "tags": []
          },
          "execution_count": 11
        }
      ]
    },
    {
      "cell_type": "markdown",
      "metadata": {
        "id": "OloQDBugQdOe"
      },
      "source": [
        "# USING SVM TO PERFORM BINARY CLASSIFICATION\n",
        "\n"
      ]
    },
    {
      "cell_type": "code",
      "metadata": {
        "colab": {
          "base_uri": "https://localhost:8080/"
        },
        "id": "xGbPyHN892uP",
        "outputId": "f6cdc5a1-cb2f-4f06-ecec-8edda8bc623e"
      },
      "source": [
        "# instantiate classifier with rbf kernel and C=100\n",
        "svc=SVC(C=100.0) \n",
        "\n",
        "\n",
        "# fit classifier to training set\n",
        "svc.fit(X_train,y_train)\n",
        "\n",
        "\n",
        "# make predictions on test set\n",
        "y_pred=svc.predict(X_test)\n",
        "\n",
        "\n",
        "# compute and print accuracy score\n",
        "print('Model accuracy score with rbf kernel and C=100.0 : {0:0.4f}'. format(accuracy_score(y_test, y_pred)))"
      ],
      "execution_count": null,
      "outputs": [
        {
          "output_type": "stream",
          "text": [
            "Model accuracy score with rbf kernel and C=100.0 : 0.7005\n"
          ],
          "name": "stdout"
        }
      ]
    },
    {
      "cell_type": "code",
      "metadata": {
        "id": "tx2g39kt944o"
      },
      "source": [
        ""
      ],
      "execution_count": null,
      "outputs": []
    }
  ]
}